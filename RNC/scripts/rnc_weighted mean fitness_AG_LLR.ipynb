{
 "cells": [
  {
   "cell_type": "markdown",
   "metadata": {},
   "source": [
    "##### Create three box plots by splitting the data based on the median for each of the scores: fitness (weighted mean) [left], functional score (weighted mean) [center], and transformation score[right]. Then, plot these data points against the ESM1b score, dividing the ESM score into two groups."
   ]
  },
  {
   "cell_type": "code",
   "execution_count": null,
   "metadata": {},
   "outputs": [],
   "source": [
    "#llr\n",
    "fig, ax = plt.subplots(1,3,figsize = (4.5,1.5), dpi = 200)\n",
    "ax = utility.box_plot_esm_vs_all_three_score(data = df, ax=ax)\n",
    "ax[0]=utility.custom_figure_axis(ax=ax[0],show_ticks=False)\n",
    "ax[1]=utility.custom_figure_axis(ax=ax[1],show_ticks=False)\n",
    "ax[2]=utility.custom_figure_axis(ax=ax[2],show_ticks=False)\n",
    "plt.tight_layout()\n",
    "plt.savefig(\"RNC all fitness boxplot_llr.pdf\", dpi = 600)"
   ]
  },
  {
   "cell_type": "code",
   "execution_count": null,
   "metadata": {},
   "outputs": [],
   "source": [
    "#AG\n",
    "fig, ax = plt.subplots(1,3,figsize = (4.5,1.5), dpi = 200)\n",
    "ax =utility.box_plot_AG_vs_all_three_score(data = df, ax=ax)\n",
    "ax[0]=utility.custom_figure_axis(ax=ax[0],show_ticks=False)\n",
    "ax[1]=utility.custom_figure_axis(ax=ax[1],show_ticks=False)\n",
    "ax[2]=utility.custom_figure_axis(ax=ax[2],show_ticks=False)\n",
    "plt.tight_layout()\n",
    "plt.savefig(\"RNC all fitness boxplot_AG.pdf\", dpi = 600)"
   ]
  }
 ],
 "metadata": {
  "language_info": {
   "name": "python"
  }
 },
 "nbformat": 4,
 "nbformat_minor": 2
}
