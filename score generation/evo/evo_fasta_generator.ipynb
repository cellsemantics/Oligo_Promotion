{
 "cells": [
  {
   "cell_type": "markdown",
   "id": "39fe7e69",
   "metadata": {},
   "source": [
    "##### import library"
   ]
  },
  {
   "cell_type": "code",
   "execution_count": 16,
   "id": "72ecfe4c",
   "metadata": {},
   "outputs": [],
   "source": [
    "import sys\n",
    "sys.path.append(\"../..\")\n",
    "# sys.path.append(\"../../../data/\")"
   ]
  },
  {
   "cell_type": "code",
   "execution_count": 17,
   "id": "d464d3a1",
   "metadata": {},
   "outputs": [],
   "source": [
    "import pandas as pd \n",
    "from Bio import SeqIO\n",
    "from tqdm import tqdm\n",
    "import numpy as np"
   ]
  },
  {
   "cell_type": "markdown",
   "id": "a4b771c1",
   "metadata": {},
   "source": [
    "##### Function to write DataFrame to FASTA format"
   ]
  },
  {
   "cell_type": "code",
   "execution_count": 18,
   "id": "8d23a6e9-58f3-444f-b9b5-e9e343f378f6",
   "metadata": {},
   "outputs": [],
   "source": [
    "def dataframe_to_fasta(df, column, output_file):\n",
    "    with open(output_file, 'w') as f:\n",
    "        for _, row in df.iterrows():\n",
    "            # Write the FASTA header with key\n",
    "            f.write(f\">{row['key']}\\n\")\n",
    "            # Write the sequence with REF_FLANK\n",
    "            f.write(f\"{row[column]}\\n\")"
   ]
  },
  {
   "cell_type": "markdown",
   "id": "c69cf195-ff87-41d6-9192-fa923b7a6c1b",
   "metadata": {},
   "source": [
    "### Read the ecoli metadata with kgain scores "
   ]
  },
  {
   "cell_type": "code",
   "execution_count": 19,
   "id": "c37ffab6-5ec0-4e44-8762-fb3634d29472",
   "metadata": {},
   "outputs": [
    {
     "data": {
      "text/html": [
       "<div>\n",
       "<style scoped>\n",
       "    .dataframe tbody tr th:only-of-type {\n",
       "        vertical-align: middle;\n",
       "    }\n",
       "\n",
       "    .dataframe tbody tr th {\n",
       "        vertical-align: top;\n",
       "    }\n",
       "\n",
       "    .dataframe thead th {\n",
       "        text-align: right;\n",
       "    }\n",
       "</style>\n",
       "<table border=\"1\" class=\"dataframe\">\n",
       "  <thead>\n",
       "    <tr style=\"text-align: right;\">\n",
       "      <th></th>\n",
       "      <th>Position</th>\n",
       "      <th>Gene</th>\n",
       "      <th>Allele</th>\n",
       "      <th>Ref_allele</th>\n",
       "      <th>Alt_allele</th>\n",
       "      <th>Annotation</th>\n",
       "      <th>label</th>\n",
       "      <th>accumulated_gain</th>\n",
       "    </tr>\n",
       "  </thead>\n",
       "  <tbody>\n",
       "    <tr>\n",
       "      <th>0</th>\n",
       "      <td>63</td>\n",
       "      <td>intergenic</td>\n",
       "      <td>A-&gt;C</td>\n",
       "      <td>A</td>\n",
       "      <td>C</td>\n",
       "      <td>noncoding</td>\n",
       "      <td>p6</td>\n",
       "      <td>-10.385914</td>\n",
       "    </tr>\n",
       "    <tr>\n",
       "      <th>1</th>\n",
       "      <td>201</td>\n",
       "      <td>thrL</td>\n",
       "      <td>T-&gt;G</td>\n",
       "      <td>T</td>\n",
       "      <td>G</td>\n",
       "      <td>missense</td>\n",
       "      <td>p6</td>\n",
       "      <td>-1.750693</td>\n",
       "    </tr>\n",
       "    <tr>\n",
       "      <th>2</th>\n",
       "      <td>241</td>\n",
       "      <td>thrL</td>\n",
       "      <td>A-&gt;C</td>\n",
       "      <td>A</td>\n",
       "      <td>C</td>\n",
       "      <td>missense</td>\n",
       "      <td>m1</td>\n",
       "      <td>-0.911836</td>\n",
       "    </tr>\n",
       "    <tr>\n",
       "      <th>3</th>\n",
       "      <td>309</td>\n",
       "      <td>thrA</td>\n",
       "      <td>T-&gt;G</td>\n",
       "      <td>T</td>\n",
       "      <td>G</td>\n",
       "      <td>noncoding</td>\n",
       "      <td>m1</td>\n",
       "      <td>4.009052</td>\n",
       "    </tr>\n",
       "    <tr>\n",
       "      <th>4</th>\n",
       "      <td>322</td>\n",
       "      <td>thrA</td>\n",
       "      <td>A-&gt;G</td>\n",
       "      <td>A</td>\n",
       "      <td>G</td>\n",
       "      <td>noncoding</td>\n",
       "      <td>p3</td>\n",
       "      <td>1.532477</td>\n",
       "    </tr>\n",
       "  </tbody>\n",
       "</table>\n",
       "</div>"
      ],
      "text/plain": [
       "   Position         Gene Allele Ref_allele Alt_allele  Annotation label  \\\n",
       "0        63   intergenic   A->C          A          C   noncoding    p6   \n",
       "1       201         thrL   T->G          T          G    missense    p6   \n",
       "2       241         thrL   A->C          A          C    missense    m1   \n",
       "3       309         thrA   T->G          T          G   noncoding    m1   \n",
       "4       322         thrA   A->G          A          G   noncoding    p3   \n",
       "\n",
       "   accumulated_gain  \n",
       "0        -10.385914  \n",
       "1         -1.750693  \n",
       "2         -0.911836  \n",
       "3          4.009052  \n",
       "4          1.532477  "
      ]
     },
     "execution_count": 19,
     "metadata": {},
     "output_type": "execute_result"
    }
   ],
   "source": [
    "df = pd.read_excel(\"../../data/MetaData_ecoli_final.xlsx\", sheet_name= \"Gain score\")\n",
    "df.head()"
   ]
  },
  {
   "cell_type": "code",
   "execution_count": 20,
   "id": "77a23278-d721-48da-a58b-ecb165440374",
   "metadata": {},
   "outputs": [
    {
     "data": {
      "text/html": [
       "<div>\n",
       "<style scoped>\n",
       "    .dataframe tbody tr th:only-of-type {\n",
       "        vertical-align: middle;\n",
       "    }\n",
       "\n",
       "    .dataframe tbody tr th {\n",
       "        vertical-align: top;\n",
       "    }\n",
       "\n",
       "    .dataframe thead th {\n",
       "        text-align: right;\n",
       "    }\n",
       "</style>\n",
       "<table border=\"1\" class=\"dataframe\">\n",
       "  <thead>\n",
       "    <tr style=\"text-align: right;\">\n",
       "      <th></th>\n",
       "      <th>Position</th>\n",
       "      <th>Gene</th>\n",
       "      <th>Allele</th>\n",
       "      <th>Ref_allele</th>\n",
       "      <th>Alt_allele</th>\n",
       "      <th>Annotation</th>\n",
       "      <th>label</th>\n",
       "      <th>accumulated_gain</th>\n",
       "    </tr>\n",
       "  </thead>\n",
       "  <tbody>\n",
       "  </tbody>\n",
       "</table>\n",
       "</div>"
      ],
      "text/plain": [
       "Empty DataFrame\n",
       "Columns: [Position, Gene, Allele, Ref_allele, Alt_allele, Annotation, label, accumulated_gain]\n",
       "Index: []"
      ]
     },
     "execution_count": 20,
     "metadata": {},
     "output_type": "execute_result"
    }
   ],
   "source": [
    "df[df.duplicated(subset=['Position', 'Gene', 'Allele', 'Annotation', 'Ref_allele', 'Alt_allele','label'])]"
   ]
  },
  {
   "cell_type": "code",
   "execution_count": 21,
   "id": "8ea36bb3-8688-4a29-996c-4ff4f290099a",
   "metadata": {},
   "outputs": [],
   "source": [
    "file_path_Ecoli = \"../../data/REL606.fna\""
   ]
  },
  {
   "cell_type": "markdown",
   "id": "ce902469-9346-4157-a432-ceeda59eee0e",
   "metadata": {},
   "source": [
    "###### Read fasta file"
   ]
  },
  {
   "cell_type": "markdown",
   "id": "4204647f",
   "metadata": {},
   "source": [
    "##### Read fasta as sequence"
   ]
  },
  {
   "cell_type": "code",
   "execution_count": 22,
   "id": "5b6d5bfe-c00f-4683-afe5-1f0d962a4477",
   "metadata": {},
   "outputs": [],
   "source": [
    "import kaos\n",
    "sequence = kaos.read_fasta(file_path_Ecoli)"
   ]
  },
  {
   "cell_type": "markdown",
   "id": "e421f22a",
   "metadata": {},
   "source": [
    "##### Generate flanking regions for reference and alternate sequences with 50 bases left and 50 bases right ( Exception can be handled with adjustable flank size)"
   ]
  },
  {
   "cell_type": "code",
   "execution_count": 23,
   "id": "12094165-0da3-4e09-bd33-ab4587b8426e",
   "metadata": {},
   "outputs": [],
   "source": [
    "\n",
    "def generate_flanking_regions(sequence, snp_positions, alt_bases, flanking_length_left=50, flanking_length_right=50):\n",
    "    flanking_regions_ref = []\n",
    "    flanking_regions_alt = []\n",
    "    for i, pos in enumerate(snp_positions):\n",
    "        pos = int(pos)  # Ensure the position is integer\n",
    "        start = max(0, pos - flanking_length_left - 1)\n",
    "        end = min(pos + flanking_length_right, len(sequence))\n",
    "\n",
    "        # Extract the reference flanking region\n",
    "        flanking_region_ref = sequence[start:end]\n",
    "\n",
    "        # Construct the alternate region with the mutated base\n",
    "        evolved_nuc = alt_bases[i]  # Alternate base\n",
    "        modified_region = (\n",
    "            flanking_region_ref[:flanking_length_left] +\n",
    "            evolved_nuc +\n",
    "            flanking_region_ref[flanking_length_left + 1:]\n",
    "        )\n",
    "\n",
    "        flanking_regions_ref.append(flanking_region_ref)\n",
    "        flanking_regions_alt.append(modified_region)\n",
    "\n",
    "    return flanking_regions_ref, flanking_regions_alt"
   ]
  },
  {
   "cell_type": "markdown",
   "id": "359d6073",
   "metadata": {},
   "source": [
    "##### Function to process the FASTA sequence and generate reference and alternate flank"
   ]
  },
  {
   "cell_type": "code",
   "execution_count": 24,
   "id": "841b1216-dcf6-464b-8fe7-39603dfba5bb",
   "metadata": {},
   "outputs": [],
   "source": [
    "\n",
    "def process_fasta_and_snp_data(data, flanking_length_left=50, flanking_length_right=50):\n",
    "\n",
    "    data = data.copy()\n",
    "    \n",
    "    snp_positions = data['Position']\n",
    "    ref_bases = data['Ref_allele']\n",
    "    alt_bases = data['Alt_allele']\n",
    "    \n",
    "    # Generate flanking regions for both ref and alt sequences with specified left and right lengths\n",
    "    flanking_regions_ref, flanking_regions_alt = generate_flanking_regions(sequence, snp_positions, alt_bases, flanking_length_left, flanking_length_right)\n",
    "    data['REF_FLANK'] = flanking_regions_ref\n",
    "    data['ALT_FLANK'] = flanking_regions_alt\n",
    "    \n",
    "    return data"
   ]
  },
  {
   "cell_type": "markdown",
   "id": "be96aecb",
   "metadata": {},
   "source": [
    "##### Dataframe with reference and alternate flank with flank size 101"
   ]
  },
  {
   "cell_type": "code",
   "execution_count": 25,
   "id": "e635b75d-5659-4b61-9e82-a7640de9aa92",
   "metadata": {},
   "outputs": [],
   "source": [
    "process_df_with_flank_50 = process_fasta_and_snp_data(data = df, flanking_length_left=50, flanking_length_right=50)"
   ]
  },
  {
   "cell_type": "code",
   "execution_count": 26,
   "id": "d46fdd05-166a-45fd-8dbe-695e34001f0a",
   "metadata": {},
   "outputs": [
    {
     "data": {
      "text/plain": [
       "(36922, 10)"
      ]
     },
     "execution_count": 26,
     "metadata": {},
     "output_type": "execute_result"
    }
   ],
   "source": [
    "process_df_with_flank_50.shape"
   ]
  },
  {
   "cell_type": "markdown",
   "id": "a4dc5526-236b-49ed-b4ad-00ad2da39d51",
   "metadata": {},
   "source": [
    "##### Identify the row where the flank length is not equal to 101"
   ]
  },
  {
   "cell_type": "code",
   "execution_count": 27,
   "id": "1059cc1f",
   "metadata": {},
   "outputs": [
    {
     "data": {
      "text/html": [
       "<div>\n",
       "<style scoped>\n",
       "    .dataframe tbody tr th:only-of-type {\n",
       "        vertical-align: middle;\n",
       "    }\n",
       "\n",
       "    .dataframe tbody tr th {\n",
       "        vertical-align: top;\n",
       "    }\n",
       "\n",
       "    .dataframe thead th {\n",
       "        text-align: right;\n",
       "    }\n",
       "</style>\n",
       "<table border=\"1\" class=\"dataframe\">\n",
       "  <thead>\n",
       "    <tr style=\"text-align: right;\">\n",
       "      <th></th>\n",
       "      <th>Position</th>\n",
       "      <th>Gene</th>\n",
       "      <th>Allele</th>\n",
       "      <th>Ref_allele</th>\n",
       "      <th>Alt_allele</th>\n",
       "      <th>Annotation</th>\n",
       "      <th>label</th>\n",
       "      <th>accumulated_gain</th>\n",
       "      <th>REF_FLANK</th>\n",
       "      <th>ALT_FLANK</th>\n",
       "    </tr>\n",
       "  </thead>\n",
       "  <tbody>\n",
       "    <tr>\n",
       "      <th>36921</th>\n",
       "      <td>4629764</td>\n",
       "      <td>lasT</td>\n",
       "      <td>T-&gt;G</td>\n",
       "      <td>T</td>\n",
       "      <td>G</td>\n",
       "      <td>missense</td>\n",
       "      <td>m1</td>\n",
       "      <td>-9.587243</td>\n",
       "      <td>GGGCTTTTAGAGCAACGAGACACGGCAATGTTGCACCGTTTGCTGC...</td>\n",
       "      <td>GGGCTTTTAGAGCAACGAGACACGGCAATGTTGCACCGTTTGCTGC...</td>\n",
       "    </tr>\n",
       "  </tbody>\n",
       "</table>\n",
       "</div>"
      ],
      "text/plain": [
       "       Position   Gene Allele Ref_allele Alt_allele Annotation label  \\\n",
       "36921   4629764   lasT   T->G          T          G   missense    m1   \n",
       "\n",
       "       accumulated_gain                                          REF_FLANK  \\\n",
       "36921         -9.587243  GGGCTTTTAGAGCAACGAGACACGGCAATGTTGCACCGTTTGCTGC...   \n",
       "\n",
       "                                               ALT_FLANK  \n",
       "36921  GGGCTTTTAGAGCAACGAGACACGGCAATGTTGCACCGTTTGCTGC...  "
      ]
     },
     "execution_count": 27,
     "metadata": {},
     "output_type": "execute_result"
    }
   ],
   "source": [
    "process_df_with_flank_50[(process_df_with_flank_50['REF_FLANK'].str.len() != 101) | (process_df_with_flank_50['ALT_FLANK'].str.len() != 101)]"
   ]
  },
  {
   "cell_type": "markdown",
   "id": "aa151df6",
   "metadata": {},
   "source": [
    "#### Note: we found one mutation where flank size is 99."
   ]
  },
  {
   "cell_type": "code",
   "execution_count": 28,
   "id": "057101bc-df2d-4e98-8006-3a6d7502cb98",
   "metadata": {},
   "outputs": [],
   "source": [
    "# process_df_with_flank_50 = process_df_with_flank_50[(process_df_with_flank_50['REF_FLANK'].str.len() == 101) & (process_df_with_flank_50['ALT_FLANK'].str.len() == 101)]"
   ]
  },
  {
   "cell_type": "code",
   "execution_count": 29,
   "id": "6bc2d9bf-914e-401e-b739-632cc58b34bf",
   "metadata": {},
   "outputs": [],
   "source": [
    "# process_df_with_flank_50.shape"
   ]
  },
  {
   "cell_type": "markdown",
   "id": "2d2bcd6d-1b38-49bd-a37d-e2a778eb2789",
   "metadata": {},
   "source": [
    "##### Save FASTA file with Alternate flank"
   ]
  },
  {
   "cell_type": "code",
   "execution_count": 32,
   "id": "a1b7e814-611c-4076-a517-e0da48d838ed",
   "metadata": {},
   "outputs": [
    {
     "name": "stdout",
     "output_type": "stream",
     "text": [
      "Alternate FASTA file has been created at alt_output.fasta\n"
     ]
    }
   ],
   "source": [
    "\n",
    "process_df_with_alt_flank_50 = process_df_with_flank_50.copy()\n",
    "process_df_with_alt_flank_50['key'] = process_df_with_alt_flank_50[['Position', 'Gene', 'Allele', 'Ref_allele', 'Alt_allele', 'Annotation',\n",
    "       'label']].astype(str).agg('_'.join, axis=1)\n",
    "process_df_with_alt_flank_50.drop(['Position', 'Gene',\n",
    " 'Allele', 'Annotation', 'Ref_allele', 'Alt_allele','label','REF_FLANK','accumulated_gain'], axis=1, inplace=True)\n",
    "process_df_with_alt_flank_50# Define the output FASTA file path\n",
    "output_fasta_file = 'alt_output.fasta'\n",
    "# Call the function to convert DataFrame to FASTA\n",
    "dataframe_to_fasta(process_df_with_alt_flank_50, \"ALT_FLANK\", output_fasta_file)\n",
    "print(f\"Alternate FASTA file has been created at {output_fasta_file}\")"
   ]
  },
  {
   "cell_type": "markdown",
   "id": "1667f6f5-ca94-457a-bb3f-3cb9d15c758b",
   "metadata": {},
   "source": [
    "##### Save FASTA file with Reference flank"
   ]
  },
  {
   "cell_type": "code",
   "execution_count": 31,
   "id": "ab5cbd0c-c2ce-4b18-9480-bd69e4a6c4ae",
   "metadata": {},
   "outputs": [],
   "source": [
    "# process_df_with_ref_flank_50 = process_df_with_flank_50.copy()\n",
    "# process_df_with_ref_flank_50['key'] = process_df_with_ref_flank_50[['Position', 'Gene', 'Allele', 'Ref_allele', 'Alt_allele', 'Annotation',\n",
    "#        'label']].astype(str).agg('_'.join, axis=1)\n",
    "# process_df_with_ref_flank_50.drop(['Position', 'Gene',\n",
    "#  'Allele', 'Annotation', 'Ref_allele', 'Alt_allele','label','ALT_FLANK','accumulated_gain'], axis=1, inplace=True)\n",
    "# # process_df_with_ref_flank_50\n",
    "# output_fasta_file =  'ref_output.fasta'\n",
    "# # Call the function to convert DataFrame to FASTA\n",
    "# dataframe_to_fasta(process_df_with_ref_flank_50, \"REF_FLANK\", output_fasta_file)\n",
    "\n",
    "# print(f\"Reference FASTA file has been created at {output_fasta_file}\")\n"
   ]
  }
 ],
 "metadata": {
  "kernelspec": {
   "display_name": "f1",
   "language": "python",
   "name": "python3"
  },
  "language_info": {
   "codemirror_mode": {
    "name": "ipython",
    "version": 3
   },
   "file_extension": ".py",
   "mimetype": "text/x-python",
   "name": "python",
   "nbconvert_exporter": "python",
   "pygments_lexer": "ipython3",
   "version": "3.10.16"
  }
 },
 "nbformat": 4,
 "nbformat_minor": 5
}
