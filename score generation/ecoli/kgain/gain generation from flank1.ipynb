{
 "cells": [
  {
   "cell_type": "markdown",
   "metadata": {},
   "source": [
    "##### import library"
   ]
  },
  {
   "cell_type": "code",
   "execution_count": 18,
   "metadata": {},
   "outputs": [],
   "source": [
    "import sys\n",
    "sys.path.append(\"../..\")"
   ]
  },
  {
   "cell_type": "code",
   "execution_count": 19,
   "metadata": {},
   "outputs": [],
   "source": [
    "import pandas as pd \n",
    "import numpy as np "
   ]
  },
  {
   "cell_type": "markdown",
   "metadata": {},
   "source": [
    "##### read m1 population data"
   ]
  },
  {
   "cell_type": "code",
   "execution_count": 20,
   "metadata": {},
   "outputs": [],
   "source": [
    "m1_population = pd.read_excel(\"../../../data/m1_annotated_timecourse.xlsx\",\"Sheet2\") \n",
    "m1_population[\"label\"] = \"m1\" \n",
    "m1_population = m1_population[['Position','Gene','Allele','Annotation','Test.statistic','P-value','Ref_allele','Alt_allele','ref_flanking_regions','alt_flanking_regions','label']]"
   ]
  },
  {
   "cell_type": "markdown",
   "metadata": {},
   "source": [
    "##### read m2 population data"
   ]
  },
  {
   "cell_type": "code",
   "execution_count": 21,
   "metadata": {},
   "outputs": [],
   "source": [
    "m2_population = pd.read_excel(\"../../../data/m2_annotated_timecourse.xlsx\",\"Sheet2\") \n",
    "m2_population[\"label\"] = \"m2\" \n",
    "m2_population = m2_population[['Position','Gene','Allele','Annotation','Test.statistic','P-value','Ref_allele','Alt_allele','ref_flanking_regions','alt_flanking_regions','label']]"
   ]
  },
  {
   "cell_type": "markdown",
   "metadata": {},
   "source": [
    "##### read m3 population data"
   ]
  },
  {
   "cell_type": "code",
   "execution_count": 22,
   "metadata": {},
   "outputs": [],
   "source": [
    "m3_population = pd.read_excel(\"../../../data/m3_annotated_timecourse.xlsx\",\"Sheet2\") \n",
    "m3_population[\"label\"] = \"m3\" \n",
    "m3_population = m3_population[['Position','Gene','Allele','Annotation','Test.statistic','P-value','Ref_allele','Alt_allele','ref_flanking_regions','alt_flanking_regions','label']]"
   ]
  },
  {
   "cell_type": "markdown",
   "metadata": {},
   "source": [
    "##### read m4 population data"
   ]
  },
  {
   "cell_type": "code",
   "execution_count": 23,
   "metadata": {},
   "outputs": [],
   "source": [
    "m4_population = pd.read_excel(\"../../../data/m4_annotated_timecourse.xlsx\",\"Sheet2\") \n",
    "m4_population[\"label\"] = \"m4\" \n",
    "m4_population = m4_population[['Position','Gene','Allele','Annotation','Test.statistic','P-value','Ref_allele','Alt_allele','ref_flanking_regions','alt_flanking_regions','label']]"
   ]
  },
  {
   "cell_type": "markdown",
   "metadata": {},
   "source": [
    "##### read m5 population data"
   ]
  },
  {
   "cell_type": "code",
   "execution_count": 24,
   "metadata": {},
   "outputs": [],
   "source": [
    "m5_population = pd.read_excel(\"../../../data/m5_annotated_timecourse.xlsx\",\"Sheet2\") \n",
    "m5_population[\"label\"] = \"m5\" \n",
    "m5_population = m5_population[['Position','Gene','Allele','Annotation','Test.statistic','P-value','Ref_allele','Alt_allele','ref_flanking_regions','alt_flanking_regions','label']]"
   ]
  },
  {
   "cell_type": "markdown",
   "metadata": {},
   "source": [
    "##### read m6 population data"
   ]
  },
  {
   "cell_type": "code",
   "execution_count": 25,
   "metadata": {},
   "outputs": [],
   "source": [
    "\n",
    "m6_population = pd.read_excel(\"../../../data/m6_annotated_timecourse.xlsx\",\"Sheet2\") \n",
    "m6_population[\"label\"] = \"m6\" \n",
    "m6_population = m6_population[['Position','Gene','Allele','Annotation','Test.statistic','P-value','Ref_allele','Alt_allele','ref_flanking_regions','alt_flanking_regions','label']]"
   ]
  },
  {
   "cell_type": "markdown",
   "metadata": {},
   "source": [
    "##### read p1 population data"
   ]
  },
  {
   "cell_type": "code",
   "execution_count": 26,
   "metadata": {},
   "outputs": [],
   "source": [
    "p1_population = pd.read_excel(\"../../../data/p1_annotated_timecourse.xlsx\",\"Sheet2\") \n",
    "p1_population[\"label\"] = \"p1\" \n",
    "p1_population = p1_population[['Position','Gene','Allele','Annotation','Test.statistic','P-value','Ref_allele','Alt_allele','ref_flanking_regions','alt_flanking_regions','label']]"
   ]
  },
  {
   "cell_type": "markdown",
   "metadata": {},
   "source": [
    "##### read p2 population data"
   ]
  },
  {
   "cell_type": "code",
   "execution_count": 27,
   "metadata": {},
   "outputs": [],
   "source": [
    "p2_population = pd.read_excel(\"../../../data/p2_annotated_timecourse.xlsx\",\"Sheet2\") \n",
    "p2_population[\"label\"] = \"p2\" \n",
    "p2_population = p2_population[['Position','Gene','Allele','Annotation','Test.statistic','P-value','Ref_allele','Alt_allele','ref_flanking_regions','alt_flanking_regions','label']]"
   ]
  },
  {
   "cell_type": "markdown",
   "metadata": {},
   "source": [
    "##### read p3 population data"
   ]
  },
  {
   "cell_type": "code",
   "execution_count": 28,
   "metadata": {},
   "outputs": [],
   "source": [
    "p3_population = pd.read_excel(\"../../../data/p3_annotated_timecourse.xlsx\",\"Sheet2\") \n",
    "p3_population[\"label\"] = \"p3\" \n",
    "p3_population = p3_population[['Position','Gene','Allele','Annotation','Test.statistic','P-value','Ref_allele','Alt_allele','ref_flanking_regions','alt_flanking_regions','label']]"
   ]
  },
  {
   "cell_type": "markdown",
   "metadata": {},
   "source": [
    "##### read p4 population data"
   ]
  },
  {
   "cell_type": "code",
   "execution_count": 29,
   "metadata": {},
   "outputs": [],
   "source": [
    "p4_population = pd.read_excel(\"../../../data/p4_annotated_timecourse.xlsx\",\"Sheet2\") \n",
    "p4_population[\"label\"] = \"p4\" \n",
    "p4_population = p4_population[['Position','Gene','Allele','Annotation','Test.statistic','P-value','Ref_allele','Alt_allele','ref_flanking_regions','alt_flanking_regions','label']]"
   ]
  },
  {
   "cell_type": "markdown",
   "metadata": {},
   "source": [
    "##### read p5 population data"
   ]
  },
  {
   "cell_type": "code",
   "execution_count": 30,
   "metadata": {},
   "outputs": [],
   "source": [
    "p5_population = pd.read_excel(\"../../../data/p5_annotated_timecourse.xlsx\",\"Sheet2\") \n",
    "p5_population[\"label\"] = \"p5\" \n",
    "p5_population = p5_population[['Position','Gene','Allele','Annotation','Test.statistic','P-value','Ref_allele','Alt_allele','ref_flanking_regions','alt_flanking_regions','label']]"
   ]
  },
  {
   "cell_type": "markdown",
   "metadata": {},
   "source": [
    "##### read p6 population data"
   ]
  },
  {
   "cell_type": "code",
   "execution_count": 31,
   "metadata": {},
   "outputs": [],
   "source": [
    "p6_population = pd.read_excel(\"../../../data/p6_annotated_timecourse.xlsx\",\"Sheet2\") \n",
    "p6_population[\"label\"] = \"p6\" \n",
    "p6_population = p6_population[['Position','Gene','Allele','Annotation','Test.statistic','P-value','Ref_allele','Alt_allele','ref_flanking_regions','alt_flanking_regions','label']]"
   ]
  },
  {
   "cell_type": "markdown",
   "metadata": {},
   "source": [
    "##### concat all the population in single dataframe"
   ]
  },
  {
   "cell_type": "code",
   "execution_count": 32,
   "metadata": {},
   "outputs": [
    {
     "data": {
      "text/html": [
       "<div>\n",
       "<style scoped>\n",
       "    .dataframe tbody tr th:only-of-type {\n",
       "        vertical-align: middle;\n",
       "    }\n",
       "\n",
       "    .dataframe tbody tr th {\n",
       "        vertical-align: top;\n",
       "    }\n",
       "\n",
       "    .dataframe thead th {\n",
       "        text-align: right;\n",
       "    }\n",
       "</style>\n",
       "<table border=\"1\" class=\"dataframe\">\n",
       "  <thead>\n",
       "    <tr style=\"text-align: right;\">\n",
       "      <th></th>\n",
       "      <th>Position</th>\n",
       "      <th>Gene</th>\n",
       "      <th>Allele</th>\n",
       "      <th>Annotation</th>\n",
       "      <th>Test.statistic</th>\n",
       "      <th>P-value</th>\n",
       "      <th>Ref_allele</th>\n",
       "      <th>Alt_allele</th>\n",
       "      <th>ref_flanking_regions</th>\n",
       "      <th>alt_flanking_regions</th>\n",
       "      <th>label</th>\n",
       "    </tr>\n",
       "  </thead>\n",
       "  <tbody>\n",
       "    <tr>\n",
       "      <th>0</th>\n",
       "      <td>241</td>\n",
       "      <td>thrL</td>\n",
       "      <td>A-&gt;C</td>\n",
       "      <td>missense</td>\n",
       "      <td>2.887050</td>\n",
       "      <td>0.000100</td>\n",
       "      <td>A</td>\n",
       "      <td>C</td>\n",
       "      <td>TACCACAGGTAACGGTGCGGG</td>\n",
       "      <td>TACCACAGGTCACGGTGCGGG</td>\n",
       "      <td>m1</td>\n",
       "    </tr>\n",
       "    <tr>\n",
       "      <th>1</th>\n",
       "      <td>309</td>\n",
       "      <td>thrA</td>\n",
       "      <td>T-&gt;G</td>\n",
       "      <td>noncoding</td>\n",
       "      <td>4.732560</td>\n",
       "      <td>0.000300</td>\n",
       "      <td>T</td>\n",
       "      <td>G</td>\n",
       "      <td>GGCTTTTTTTTCGACCAAAGG</td>\n",
       "      <td>GGCTTTTTTTGCGACCAAAGG</td>\n",
       "      <td>m1</td>\n",
       "    </tr>\n",
       "    <tr>\n",
       "      <th>2</th>\n",
       "      <td>1615</td>\n",
       "      <td>thrA</td>\n",
       "      <td>T-&gt;G</td>\n",
       "      <td>missense</td>\n",
       "      <td>0.986369</td>\n",
       "      <td>0.000100</td>\n",
       "      <td>T</td>\n",
       "      <td>G</td>\n",
       "      <td>AATATCAACATTGTCGCCATT</td>\n",
       "      <td>AATATCAACAGTGTCGCCATT</td>\n",
       "      <td>m1</td>\n",
       "    </tr>\n",
       "    <tr>\n",
       "      <th>3</th>\n",
       "      <td>6046</td>\n",
       "      <td>yaaA</td>\n",
       "      <td>C-&gt;A</td>\n",
       "      <td>missense</td>\n",
       "      <td>1.681940</td>\n",
       "      <td>0.077982</td>\n",
       "      <td>C</td>\n",
       "      <td>A</td>\n",
       "      <td>TTCCCTCGGGCATTCTCAAGA</td>\n",
       "      <td>TTCCCTCGGGAATTCTCAAGA</td>\n",
       "      <td>m1</td>\n",
       "    </tr>\n",
       "    <tr>\n",
       "      <th>4</th>\n",
       "      <td>6220</td>\n",
       "      <td>yaaA</td>\n",
       "      <td>T-&gt;G</td>\n",
       "      <td>missense</td>\n",
       "      <td>2.478710</td>\n",
       "      <td>0.000100</td>\n",
       "      <td>T</td>\n",
       "      <td>G</td>\n",
       "      <td>AACGCCAGAATCGCCTGGCGG</td>\n",
       "      <td>AACGCCAGAAGCGCCTGGCGG</td>\n",
       "      <td>m1</td>\n",
       "    </tr>\n",
       "  </tbody>\n",
       "</table>\n",
       "</div>"
      ],
      "text/plain": [
       "   Position   Gene Allele  Annotation  Test.statistic   P-value Ref_allele  \\\n",
       "0       241   thrL   A->C    missense        2.887050  0.000100          A   \n",
       "1       309   thrA   T->G   noncoding        4.732560  0.000300          T   \n",
       "2      1615   thrA   T->G    missense        0.986369  0.000100          T   \n",
       "3      6046   yaaA   C->A    missense        1.681940  0.077982          C   \n",
       "4      6220   yaaA   T->G    missense        2.478710  0.000100          T   \n",
       "\n",
       "  Alt_allele   ref_flanking_regions   alt_flanking_regions label  \n",
       "0          C  TACCACAGGTAACGGTGCGGG  TACCACAGGTCACGGTGCGGG    m1  \n",
       "1          G  GGCTTTTTTTTCGACCAAAGG  GGCTTTTTTTGCGACCAAAGG    m1  \n",
       "2          G  AATATCAACATTGTCGCCATT  AATATCAACAGTGTCGCCATT    m1  \n",
       "3          A  TTCCCTCGGGCATTCTCAAGA  TTCCCTCGGGAATTCTCAAGA    m1  \n",
       "4          G  AACGCCAGAATCGCCTGGCGG  AACGCCAGAAGCGCCTGGCGG    m1  "
      ]
     },
     "execution_count": 32,
     "metadata": {},
     "output_type": "execute_result"
    }
   ],
   "source": [
    "df = pd.concat([m1_population,m2_population,m3_population,m4_population,m5_population,m6_population,p1_population,p2_population,p3_population,p4_population,p5_population,p6_population])\n",
    "df.reset_index(inplace=True, drop=True)\n",
    "df.head()"
   ]
  },
  {
   "cell_type": "code",
   "execution_count": 33,
   "metadata": {},
   "outputs": [
    {
     "data": {
      "text/html": [
       "<div>\n",
       "<style scoped>\n",
       "    .dataframe tbody tr th:only-of-type {\n",
       "        vertical-align: middle;\n",
       "    }\n",
       "\n",
       "    .dataframe tbody tr th {\n",
       "        vertical-align: top;\n",
       "    }\n",
       "\n",
       "    .dataframe thead th {\n",
       "        text-align: right;\n",
       "    }\n",
       "</style>\n",
       "<table border=\"1\" class=\"dataframe\">\n",
       "  <thead>\n",
       "    <tr style=\"text-align: right;\">\n",
       "      <th></th>\n",
       "      <th>Position</th>\n",
       "      <th>Gene</th>\n",
       "      <th>Allele</th>\n",
       "      <th>Annotation</th>\n",
       "      <th>Test.statistic</th>\n",
       "      <th>P-value</th>\n",
       "      <th>Ref_allele</th>\n",
       "      <th>Alt_allele</th>\n",
       "      <th>ref_flanking_regions</th>\n",
       "      <th>alt_flanking_regions</th>\n",
       "      <th>label</th>\n",
       "    </tr>\n",
       "  </thead>\n",
       "  <tbody>\n",
       "  </tbody>\n",
       "</table>\n",
       "</div>"
      ],
      "text/plain": [
       "Empty DataFrame\n",
       "Columns: [Position, Gene, Allele, Annotation, Test.statistic, P-value, Ref_allele, Alt_allele, ref_flanking_regions, alt_flanking_regions, label]\n",
       "Index: []"
      ]
     },
     "execution_count": 33,
     "metadata": {},
     "output_type": "execute_result"
    }
   ],
   "source": [
    "df[df.duplicated(subset=['Position', 'Gene', 'Allele', 'Annotation', 'Test.statistic', 'P-value',\n",
    "       'Ref_allele', 'Alt_allele', 'ref_flanking_regions',\n",
    "       'alt_flanking_regions', 'label'])]"
   ]
  },
  {
   "cell_type": "markdown",
   "metadata": {},
   "source": [
    "##### Obtain frequency of kmer"
   ]
  },
  {
   "cell_type": "code",
   "execution_count": 34,
   "metadata": {},
   "outputs": [],
   "source": [
    "import kaos\n",
    "kmer_length =10\n",
    "file_path_Ecoli = \"../../../data/GCF_000017985.1_ASM1798v1_genomic.fna\"\n",
    "fcgr_sequence_Ecoli = kaos.chaos_frequency_dictionary(fasta_string= kaos.read_fasta(file_path_Ecoli), kmer_length=kmer_length, pseudo_count=True, chaos_game_kmer_array=kaos.chaos_game_representation_key(kmer_length = kmer_length))"
   ]
  },
  {
   "cell_type": "markdown",
   "metadata": {},
   "source": [
    "#### Generate kgain score"
   ]
  },
  {
   "cell_type": "code",
   "execution_count": 35,
   "metadata": {},
   "outputs": [
    {
     "name": "stderr",
     "output_type": "stream",
     "text": [
      "/tmp/ipykernel_3396029/2557491486.py:42: FutureWarning: The behavior of DataFrame concatenation with empty or all-NA entries is deprecated. In a future version, this will no longer exclude empty or all-NA columns when determining the result dtypes. To retain the old behavior, exclude the relevant entries before the concat operation.\n",
      "  df_complete = pd.concat([df_complete, df_sliding])\n"
     ]
    }
   ],
   "source": [
    "df_sliding = pd.DataFrame(columns = ['Position', 'Gene', 'Allele', 'Annotation', 'Test.statistic', 'P-value',\n",
    "       'Ref_allele', 'Alt_allele', 'ref_flanking_regions',\n",
    "       'alt_flanking_regions', 'label'])\n",
    "df_complete = pd.DataFrame(columns = ['Position', 'Gene', 'Allele', 'Annotation', 'Test.statistic', 'P-value',\n",
    "       'Ref_allele', 'Alt_allele', 'ref_flanking_regions',\n",
    "       'alt_flanking_regions', 'label'])\n",
    "\n",
    "\n",
    "for i in range(df.shape[0]):\n",
    "    \n",
    "    ref_seq = df.loc[i, \"ref_flanking_regions\"]\n",
    "    alt_seq = df.loc[i, \"alt_flanking_regions\"]\n",
    "    \n",
    "    center_pos = int(len(ref_seq)/2)\n",
    "    \n",
    "    gain = 0\n",
    "    \n",
    "    for j in range(kmer_length):\n",
    "        \n",
    "       #  print(j)\n",
    "\n",
    "        df_sliding.loc[j, \"altered sliding window\"] = alt_seq[center_pos - kmer_length+j+1:center_pos+1+j]\n",
    "        df_sliding.loc[j, \"reference sliding window\"] = ref_seq[center_pos - kmer_length+j+1:center_pos+j+1]\n",
    "\n",
    "        df_sliding.loc[j, \"gain\"] = np.log(fcgr_sequence_Ecoli[df_sliding.loc[j, \"altered sliding window\"]]/ fcgr_sequence_Ecoli[df_sliding.loc[j, \"reference sliding window\"]])\n",
    "    \n",
    "        gain = gain + df_sliding.loc[j, \"gain\"]\n",
    "    \n",
    "    df_sliding['Position'] = df.loc[i, 'Position']\n",
    "    df_sliding['Gene'] = df.loc[i, 'Gene']\n",
    "    df_sliding['Allele'] = df.loc[i, 'Allele']\n",
    "    df_sliding['Annotation'] = df.loc[i, 'Annotation']\n",
    "    df_sliding['Test.statistic'] = df.loc[i, 'Test.statistic']\n",
    "    df_sliding['P-value'] = df.loc[i, 'P-value']\n",
    "    df_sliding['Ref_allele'] = df.loc[i, 'Ref_allele']\n",
    "    df_sliding['Alt_allele'] = df.loc[i, 'Alt_allele']\n",
    "    df_sliding['ref_flanking_regions'] = df.loc[i, 'ref_flanking_regions']\n",
    "    df_sliding['alt_flanking_regions'] = df.loc[i, 'alt_flanking_regions']\n",
    "    df_sliding['label'] = df.loc[i, 'label']\n",
    "    df_sliding[\"accumulated_gain\"] = gain\n",
    "\n",
    "    df_complete = pd.concat([df_complete, df_sliding])"
   ]
  },
  {
   "cell_type": "code",
   "execution_count": 36,
   "metadata": {},
   "outputs": [],
   "source": [
    "# df_complete"
   ]
  },
  {
   "cell_type": "markdown",
   "metadata": {},
   "source": [
    "##### Obtain kGain for each unique mutation with [\"Position\", \"Gene\", \"Allele\", \"Ref_allele\", \"Alt_allele\", \"Annotation\", \"label\"] as unique key"
   ]
  },
  {
   "cell_type": "code",
   "execution_count": 37,
   "metadata": {},
   "outputs": [
    {
     "data": {
      "text/html": [
       "<div>\n",
       "<style scoped>\n",
       "    .dataframe tbody tr th:only-of-type {\n",
       "        vertical-align: middle;\n",
       "    }\n",
       "\n",
       "    .dataframe tbody tr th {\n",
       "        vertical-align: top;\n",
       "    }\n",
       "\n",
       "    .dataframe thead th {\n",
       "        text-align: right;\n",
       "    }\n",
       "</style>\n",
       "<table border=\"1\" class=\"dataframe\">\n",
       "  <thead>\n",
       "    <tr style=\"text-align: right;\">\n",
       "      <th></th>\n",
       "      <th>Position</th>\n",
       "      <th>Gene</th>\n",
       "      <th>Allele</th>\n",
       "      <th>Ref_allele</th>\n",
       "      <th>Alt_allele</th>\n",
       "      <th>Annotation</th>\n",
       "      <th>label</th>\n",
       "      <th>accumulated_gain</th>\n",
       "    </tr>\n",
       "  </thead>\n",
       "  <tbody>\n",
       "    <tr>\n",
       "      <th>0</th>\n",
       "      <td>63</td>\n",
       "      <td>intergenic</td>\n",
       "      <td>A-&gt;C</td>\n",
       "      <td>A</td>\n",
       "      <td>C</td>\n",
       "      <td>noncoding</td>\n",
       "      <td>p6</td>\n",
       "      <td>-10.385914</td>\n",
       "    </tr>\n",
       "    <tr>\n",
       "      <th>1</th>\n",
       "      <td>201</td>\n",
       "      <td>thrL</td>\n",
       "      <td>T-&gt;G</td>\n",
       "      <td>T</td>\n",
       "      <td>G</td>\n",
       "      <td>missense</td>\n",
       "      <td>p6</td>\n",
       "      <td>-1.750693</td>\n",
       "    </tr>\n",
       "    <tr>\n",
       "      <th>2</th>\n",
       "      <td>241</td>\n",
       "      <td>thrL</td>\n",
       "      <td>A-&gt;C</td>\n",
       "      <td>A</td>\n",
       "      <td>C</td>\n",
       "      <td>missense</td>\n",
       "      <td>m1</td>\n",
       "      <td>-0.911836</td>\n",
       "    </tr>\n",
       "    <tr>\n",
       "      <th>3</th>\n",
       "      <td>309</td>\n",
       "      <td>thrA</td>\n",
       "      <td>T-&gt;G</td>\n",
       "      <td>T</td>\n",
       "      <td>G</td>\n",
       "      <td>noncoding</td>\n",
       "      <td>m1</td>\n",
       "      <td>4.009052</td>\n",
       "    </tr>\n",
       "    <tr>\n",
       "      <th>4</th>\n",
       "      <td>322</td>\n",
       "      <td>thrA</td>\n",
       "      <td>A-&gt;G</td>\n",
       "      <td>A</td>\n",
       "      <td>G</td>\n",
       "      <td>noncoding</td>\n",
       "      <td>p3</td>\n",
       "      <td>1.532477</td>\n",
       "    </tr>\n",
       "    <tr>\n",
       "      <th>...</th>\n",
       "      <td>...</td>\n",
       "      <td>...</td>\n",
       "      <td>...</td>\n",
       "      <td>...</td>\n",
       "      <td>...</td>\n",
       "      <td>...</td>\n",
       "      <td>...</td>\n",
       "      <td>...</td>\n",
       "    </tr>\n",
       "    <tr>\n",
       "      <th>36917</th>\n",
       "      <td>4629541</td>\n",
       "      <td>lasT</td>\n",
       "      <td>C-&gt;T</td>\n",
       "      <td>C</td>\n",
       "      <td>T</td>\n",
       "      <td>missense</td>\n",
       "      <td>m2</td>\n",
       "      <td>-4.635292</td>\n",
       "    </tr>\n",
       "    <tr>\n",
       "      <th>36918</th>\n",
       "      <td>4629573</td>\n",
       "      <td>lasT</td>\n",
       "      <td>T-&gt;C</td>\n",
       "      <td>T</td>\n",
       "      <td>C</td>\n",
       "      <td>synonymous</td>\n",
       "      <td>m4</td>\n",
       "      <td>-7.657991</td>\n",
       "    </tr>\n",
       "    <tr>\n",
       "      <th>36919</th>\n",
       "      <td>4629600</td>\n",
       "      <td>lasT</td>\n",
       "      <td>A-&gt;G</td>\n",
       "      <td>A</td>\n",
       "      <td>G</td>\n",
       "      <td>missense</td>\n",
       "      <td>p3</td>\n",
       "      <td>2.403010</td>\n",
       "    </tr>\n",
       "    <tr>\n",
       "      <th>36920</th>\n",
       "      <td>4629600</td>\n",
       "      <td>lasT</td>\n",
       "      <td>A-&gt;G</td>\n",
       "      <td>A</td>\n",
       "      <td>G</td>\n",
       "      <td>missense</td>\n",
       "      <td>p6</td>\n",
       "      <td>2.403010</td>\n",
       "    </tr>\n",
       "    <tr>\n",
       "      <th>36921</th>\n",
       "      <td>4629764</td>\n",
       "      <td>lasT</td>\n",
       "      <td>T-&gt;G</td>\n",
       "      <td>T</td>\n",
       "      <td>G</td>\n",
       "      <td>missense</td>\n",
       "      <td>m1</td>\n",
       "      <td>-9.587243</td>\n",
       "    </tr>\n",
       "  </tbody>\n",
       "</table>\n",
       "<p>36922 rows × 8 columns</p>\n",
       "</div>"
      ],
      "text/plain": [
       "       Position         Gene Allele Ref_allele Alt_allele   Annotation label  \\\n",
       "0            63   intergenic   A->C          A          C    noncoding    p6   \n",
       "1           201         thrL   T->G          T          G     missense    p6   \n",
       "2           241         thrL   A->C          A          C     missense    m1   \n",
       "3           309         thrA   T->G          T          G    noncoding    m1   \n",
       "4           322         thrA   A->G          A          G    noncoding    p3   \n",
       "...         ...          ...    ...        ...        ...          ...   ...   \n",
       "36917   4629541         lasT   C->T          C          T     missense    m2   \n",
       "36918   4629573         lasT   T->C          T          C   synonymous    m4   \n",
       "36919   4629600         lasT   A->G          A          G     missense    p3   \n",
       "36920   4629600         lasT   A->G          A          G     missense    p6   \n",
       "36921   4629764         lasT   T->G          T          G     missense    m1   \n",
       "\n",
       "       accumulated_gain  \n",
       "0            -10.385914  \n",
       "1             -1.750693  \n",
       "2             -0.911836  \n",
       "3              4.009052  \n",
       "4              1.532477  \n",
       "...                 ...  \n",
       "36917         -4.635292  \n",
       "36918         -7.657991  \n",
       "36919          2.403010  \n",
       "36920          2.403010  \n",
       "36921         -9.587243  \n",
       "\n",
       "[36922 rows x 8 columns]"
      ]
     },
     "execution_count": 37,
     "metadata": {},
     "output_type": "execute_result"
    }
   ],
   "source": [
    "df_complete_groupby = df_complete.groupby([\"Position\", \"Gene\", \"Allele\", \"Ref_allele\", \"Alt_allele\", \"Annotation\", \"label\"])[\"accumulated_gain\"].mean().reset_index()\n",
    "df_complete_groupby"
   ]
  },
  {
   "cell_type": "code",
   "execution_count": 38,
   "metadata": {},
   "outputs": [],
   "source": [
    "# df_complete_groupby.to_csv(\"../Results/Ecoli_Gain_All.csv\", index=False)"
   ]
  }
 ],
 "metadata": {
  "kernelspec": {
   "display_name": "f1",
   "language": "python",
   "name": "python3"
  },
  "language_info": {
   "codemirror_mode": {
    "name": "ipython",
    "version": 3
   },
   "file_extension": ".py",
   "mimetype": "text/x-python",
   "name": "python",
   "nbconvert_exporter": "python",
   "pygments_lexer": "ipython3",
   "version": "3.10.16"
  }
 },
 "nbformat": 4,
 "nbformat_minor": 4
}
