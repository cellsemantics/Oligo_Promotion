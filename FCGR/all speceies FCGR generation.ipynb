{
 "cells": [
  {
   "cell_type": "markdown",
   "metadata": {},
   "source": [
    "##### import library"
   ]
  },
  {
   "cell_type": "code",
   "execution_count": 97,
   "metadata": {},
   "outputs": [],
   "source": [
    "import kaos\n",
    "import seaborn as sns\n",
    "import pandas as pd\n",
    "import numpy as np"
   ]
  },
  {
   "cell_type": "markdown",
   "metadata": {},
   "source": [
    "##### define kmer length"
   ]
  },
  {
   "cell_type": "code",
   "execution_count": 2,
   "metadata": {},
   "outputs": [],
   "source": [
    "kmer_length = 10"
   ]
  },
  {
   "cell_type": "markdown",
   "metadata": {},
   "source": [
    "##### Provide fasta file path for each species"
   ]
  },
  {
   "cell_type": "code",
   "execution_count": 12,
   "metadata": {},
   "outputs": [],
   "source": [
    "file_path_yeast = \"/media/abhishek/abhi/dataset/multi species fasta files/yeast/w303_vlte.fasta\"\n",
    "file_path_ecoli = \"/media/abhishek/abhi/dataset/multi species fasta files/ecoli/562.5708.fna\"\n",
    "file_path_human = \"/media/abhishek/abhi/dataset/multi species fasta files/human/GRCh38_latest_genomic.fna\"\n",
    "file_path_zebra_fish = \"/media/abhishek/abhi/dataset/multi species fasta files/Zebrafish/GCF_000002035.6_GRCz11_genomic.fna\"\n",
    "file_path_fruit_fly = \"/media/abhishek/abhi/dataset/multi species fasta files/Fruit_fly/GCF_000001215.4_Release_6_plus_ISO1_MT_genomic.fna\"\n",
    "file_path_Nematoda = \"/media/abhishek/abhi/dataset/multi species fasta files/Nematoda/GCF_000002985.6_WBcel235_genomic.fna\"\n",
    "file_path_Chimpanzee = \"/media/abhishek/abhi/dataset/multi species fasta files/Chimpanzee/GCF_028858775.1_NHGRI_mPanTro3-v1.1-hic.freeze_pri_genomic.fna\"\n",
    "file_path_Gibbon = \"/media/abhishek/abhi/dataset/multi species fasta files/Gibbon/GCF_028878055.1_NHGRI_mSymSyn1-v1.1-hic.freeze_pri_genomic.fna\"\n",
    "file_path_Gorilla = \"/media/abhishek/abhi/dataset/multi species fasta files/Gorilla/GCF_029281585.1_NHGRI_mGorGor1-v1.1-0.2.freeze_pri_genomic.fna\"\n",
    "file_path_Mouse = \"/media/abhishek/abhi/dataset/multi species fasta files/Mouse/GCF_000001635.27_GRCm39_genomic.fna\"\n",
    "file_path_Orangutan = \"/media/abhishek/abhi/dataset/multi species fasta files/Orangutan/GCF_028885625.1_NHGRI_mPonPyg2-v1.1-hic.freeze_pri_genomic.fna\"\n"
   ]
  },
  {
   "cell_type": "markdown",
   "metadata": {},
   "source": [
    "##### obtain the keys of FCGR representation"
   ]
  },
  {
   "cell_type": "code",
   "execution_count": 52,
   "metadata": {},
   "outputs": [],
   "source": [
    "chaos_game_kmer_array = kaos.kaos_fcgr().chaos_game_representation_key(kmer_length=kmer_length)"
   ]
  },
  {
   "cell_type": "code",
   "execution_count": 103,
   "metadata": {},
   "outputs": [
    {
     "data": {
      "text/plain": [
       "array([['CCCCCCCCCC', 'CCCCCCCCCG', 'CCCCCCCCGC', ..., 'GGGGGGGGCG',\n",
       "        'GGGGGGGGGC', 'GGGGGGGGGG'],\n",
       "       ['CCCCCCCCCA', 'CCCCCCCCCT', 'CCCCCCCCGA', ..., 'GGGGGGGGCT',\n",
       "        'GGGGGGGGGA', 'GGGGGGGGGT'],\n",
       "       ['CCCCCCCCAC', 'CCCCCCCCAG', 'CCCCCCCCTC', ..., 'GGGGGGGGAG',\n",
       "        'GGGGGGGGTC', 'GGGGGGGGTG'],\n",
       "       ...,\n",
       "       ['AAAAAAAACA', 'AAAAAAAACT', 'AAAAAAAAGA', ..., 'TTTTTTTTCT',\n",
       "        'TTTTTTTTGA', 'TTTTTTTTGT'],\n",
       "       ['AAAAAAAAAC', 'AAAAAAAAAG', 'AAAAAAAATC', ..., 'TTTTTTTTAG',\n",
       "        'TTTTTTTTTC', 'TTTTTTTTTG'],\n",
       "       ['AAAAAAAAAA', 'AAAAAAAAAT', 'AAAAAAAATA', ..., 'TTTTTTTTAT',\n",
       "        'TTTTTTTTTA', 'TTTTTTTTTT']], dtype='<U10')"
      ]
     },
     "execution_count": 103,
     "metadata": {},
     "output_type": "execute_result"
    }
   ],
   "source": [
    "chaos_game_kmer_array"
   ]
  },
  {
   "cell_type": "markdown",
   "metadata": {},
   "source": [
    "##### yeast FCGR matrix"
   ]
  },
  {
   "cell_type": "code",
   "execution_count": 5,
   "metadata": {},
   "outputs": [
    {
     "name": "stdout",
     "output_type": "stream",
     "text": [
      "length of sequence of yeast is:  12165785\n"
     ]
    }
   ],
   "source": [
    "print(\"length of sequence of yeast is: \",  len(kaos.Read().read_fasta_removing_non_atgc(file_path_yeast)))\n",
    "fcgr_sequence_yeast = kaos.kaos_fcgr().return_fcgr_matrix(fasta_string= kaos.Read().read_fasta_removing_non_atgc(file_path_yeast), kmer_length = kmer_length,  pseudo_count = True)"
   ]
  },
  {
   "cell_type": "code",
   "execution_count": 8,
   "metadata": {},
   "outputs": [],
   "source": [
    "# fcgr_sequence_yeast"
   ]
  },
  {
   "cell_type": "markdown",
   "metadata": {},
   "source": [
    "##### E.coli FCGR matrix"
   ]
  },
  {
   "cell_type": "code",
   "execution_count": 9,
   "metadata": {},
   "outputs": [
    {
     "name": "stdout",
     "output_type": "stream",
     "text": [
      "length of sequence of ecoli is:  5025006\n"
     ]
    }
   ],
   "source": [
    "print(\"length of sequence of ecoli is: \",  len(kaos.Read().read_fasta_removing_non_atgc(file_path_ecoli)))\n",
    "fcgr_sequence_ecoli = kaos.kaos_fcgr().return_fcgr_matrix(fasta_string= kaos.Read().read_fasta_removing_non_atgc(file_path_ecoli), kmer_length = kmer_length,  pseudo_count = True)"
   ]
  },
  {
   "cell_type": "code",
   "execution_count": 104,
   "metadata": {},
   "outputs": [],
   "source": [
    "# fcgr_sequence_ecoli"
   ]
  },
  {
   "cell_type": "markdown",
   "metadata": {},
   "source": [
    "##### Human FCGR matrix"
   ]
  },
  {
   "cell_type": "code",
   "execution_count": 11,
   "metadata": {},
   "outputs": [
    {
     "name": "stdout",
     "output_type": "stream",
     "text": [
      "length of sequence of human is:  3136819154\n"
     ]
    }
   ],
   "source": [
    "print(\"length of sequence of human is: \",  len(kaos.Read().read_fasta_removing_non_atgc(file_path_human)))\n",
    "fcgr_sequence_human = kaos.kaos_fcgr().return_fcgr_matrix(fasta_string= kaos.Read().read_fasta_removing_non_atgc(file_path_human), kmer_length = kmer_length,  pseudo_count = True)"
   ]
  },
  {
   "cell_type": "markdown",
   "metadata": {},
   "source": [
    "##### Zebra fish FCGR matrix"
   ]
  },
  {
   "cell_type": "code",
   "execution_count": 13,
   "metadata": {},
   "outputs": [
    {
     "name": "stdout",
     "output_type": "stream",
     "text": [
      "length of sequence of zebra fish is:  1674509851\n"
     ]
    }
   ],
   "source": [
    "print(\"length of sequence of zebra fish is: \",  len(kaos.Read().read_fasta_removing_non_atgc(file_path_zebra_fish)))\n",
    "fcgr_sequence_zebra_fish = kaos.kaos_fcgr().return_fcgr_matrix(fasta_string= kaos.Read().read_fasta_removing_non_atgc(file_path_zebra_fish), kmer_length = kmer_length,  pseudo_count = True)"
   ]
  },
  {
   "cell_type": "code",
   "execution_count": null,
   "metadata": {},
   "outputs": [],
   "source": [
    "# fcgr_sequence_zebra"
   ]
  },
  {
   "cell_type": "markdown",
   "metadata": {},
   "source": [
    "##### Fruit fly FCGR matrix"
   ]
  },
  {
   "cell_type": "code",
   "execution_count": 14,
   "metadata": {},
   "outputs": [
    {
     "name": "stdout",
     "output_type": "stream",
     "text": [
      "length of sequence of fruit fly is:  142573024\n"
     ]
    }
   ],
   "source": [
    "print(\"length of sequence of fruit fly is: \",  len(kaos.Read().read_fasta_removing_non_atgc(file_path_fruit_fly)))\n",
    "fcgr_sequence_fruit_fly = kaos.kaos_fcgr().return_fcgr_matrix(fasta_string= kaos.Read().read_fasta_removing_non_atgc(file_path_fruit_fly), kmer_length = kmer_length,  pseudo_count = True)"
   ]
  },
  {
   "cell_type": "code",
   "execution_count": null,
   "metadata": {},
   "outputs": [],
   "source": [
    "# fcgr_sequence_fruit_fly"
   ]
  },
  {
   "cell_type": "markdown",
   "metadata": {},
   "source": [
    "##### Nematoda FCGR matrix"
   ]
  },
  {
   "cell_type": "code",
   "execution_count": 15,
   "metadata": {},
   "outputs": [
    {
     "name": "stdout",
     "output_type": "stream",
     "text": [
      "length of sequence of Nematoda is:  100286401\n"
     ]
    }
   ],
   "source": [
    "print(\"length of sequence of Nematoda is: \",  len(kaos.Read().read_fasta_removing_non_atgc(file_path_Nematoda)))\n",
    "fcgr_sequence_Nematoda = kaos.kaos_fcgr().return_fcgr_matrix(fasta_string= kaos.Read().read_fasta_removing_non_atgc(file_path_Nematoda), kmer_length = kmer_length,  pseudo_count = True)"
   ]
  },
  {
   "cell_type": "code",
   "execution_count": null,
   "metadata": {},
   "outputs": [],
   "source": [
    "# fcgr_sequence_Nematoda"
   ]
  },
  {
   "cell_type": "markdown",
   "metadata": {},
   "source": [
    "##### Chimpanzee FCGR matrix"
   ]
  },
  {
   "cell_type": "code",
   "execution_count": 16,
   "metadata": {},
   "outputs": [
    {
     "name": "stdout",
     "output_type": "stream",
     "text": [
      "length of sequence of chimpanzee is:  3222180001\n"
     ]
    }
   ],
   "source": [
    "print(\"length of sequence of chimpanzee is: \",  len(kaos.Read().read_fasta_removing_non_atgc(file_path_Chimpanzee)))\n",
    "fcgr_sequence_chimpanzee = kaos.kaos_fcgr().return_fcgr_matrix(fasta_string= kaos.Read().read_fasta_removing_non_atgc(file_path_Chimpanzee), kmer_length = kmer_length,  pseudo_count = True)"
   ]
  },
  {
   "cell_type": "code",
   "execution_count": null,
   "metadata": {},
   "outputs": [],
   "source": [
    "# fcgr_sequence_Chimpanzee"
   ]
  },
  {
   "cell_type": "markdown",
   "metadata": {},
   "source": [
    "##### Gibbon FCGR matrix"
   ]
  },
  {
   "cell_type": "code",
   "execution_count": 17,
   "metadata": {},
   "outputs": [
    {
     "name": "stdout",
     "output_type": "stream",
     "text": [
      "length of sequence of gibbon is:  3182923132\n"
     ]
    }
   ],
   "source": [
    "print(\"length of sequence of gibbon is: \",  len(kaos.Read().read_fasta_removing_non_atgc(file_path_Gibbon)))\n",
    "fcgr_sequence_gibbon = kaos.kaos_fcgr().return_fcgr_matrix(fasta_string= kaos.Read().read_fasta_removing_non_atgc(file_path_Gibbon), kmer_length = kmer_length,  pseudo_count = True)"
   ]
  },
  {
   "cell_type": "code",
   "execution_count": null,
   "metadata": {},
   "outputs": [],
   "source": [
    "# fcgr_sequence_Gibbon"
   ]
  },
  {
   "cell_type": "markdown",
   "metadata": {},
   "source": [
    "##### Gorilla FCGR matrix"
   ]
  },
  {
   "cell_type": "code",
   "execution_count": 18,
   "metadata": {},
   "outputs": [
    {
     "name": "stdout",
     "output_type": "stream",
     "text": [
      "length of sequence of gorilla is:  3595314213\n"
     ]
    }
   ],
   "source": [
    "print(\"length of sequence of gorilla is: \",  len(kaos.Read().read_fasta_removing_non_atgc(file_path_Gorilla)))\n",
    "fcgr_sequence_gorilla = kaos.kaos_fcgr().return_fcgr_matrix(fasta_string= kaos.Read().read_fasta_removing_non_atgc(file_path_Gorilla), kmer_length = kmer_length,  pseudo_count = True)"
   ]
  },
  {
   "cell_type": "markdown",
   "metadata": {},
   "source": [
    "##### Mouse FCGR matrix"
   ]
  },
  {
   "cell_type": "code",
   "execution_count": 19,
   "metadata": {},
   "outputs": [
    {
     "name": "stdout",
     "output_type": "stream",
     "text": [
      "length of sequence of mouse is:  2654621783\n"
     ]
    }
   ],
   "source": [
    "print(\"length of sequence of mouse is: \",  len(kaos.Read().read_fasta_removing_non_atgc(file_path_Mouse)))\n",
    "fcgr_sequence_mouse = kaos.kaos_fcgr().return_fcgr_matrix(fasta_string= kaos.Read().read_fasta_removing_non_atgc(file_path_Mouse), kmer_length = kmer_length,  pseudo_count = True)"
   ]
  },
  {
   "cell_type": "markdown",
   "metadata": {},
   "source": [
    "##### Orangutan FCGR matrix"
   ]
  },
  {
   "cell_type": "code",
   "execution_count": 20,
   "metadata": {},
   "outputs": [
    {
     "name": "stdout",
     "output_type": "stream",
     "text": [
      "length of sequence of Orangutan is:  3244861008\n"
     ]
    }
   ],
   "source": [
    "print(\"length of sequence of Orangutan is: \",  len(kaos.Read().read_fasta_removing_non_atgc(file_path_Orangutan)))\n",
    "fcgr_sequence_orangutan = kaos.kaos_fcgr().return_fcgr_matrix(fasta_string= kaos.Read().read_fasta_removing_non_atgc(file_path_Orangutan), kmer_length = kmer_length,  pseudo_count = True)"
   ]
  },
  {
   "cell_type": "markdown",
   "metadata": {},
   "source": [
    "##### Put all FCGR in a single dictionery"
   ]
  },
  {
   "cell_type": "code",
   "execution_count": 82,
   "metadata": {},
   "outputs": [],
   "source": [
    "# Create a nested dictionary\n",
    "all_species_fcgr = {\n",
    "    'key': chaos_game_kmer_array,\n",
    "    'yeast': fcgr_sequence_yeast,\n",
    "    'ecoli': fcgr_sequence_ecoli,\n",
    "    'zebra fish' : fcgr_sequence_zebra_fish,\n",
    "    'fruit fly' : fcgr_sequence_fruit_fly,\n",
    "    'nematoda' : fcgr_sequence_Nematoda,\n",
    "    'chimpanzee' : fcgr_sequence_chimpanzee,\n",
    "    'gibbon': fcgr_sequence_gibbon,\n",
    "    'gorilla' : fcgr_sequence_gorilla,\n",
    "    'mouse': fcgr_sequence_mouse,\n",
    "    'orangutan': fcgr_sequence_orangutan,\n",
    "    'human' : fcgr_sequence_human\n",
    "    \n",
    "}"
   ]
  },
  {
   "cell_type": "code",
   "execution_count": 39,
   "metadata": {},
   "outputs": [],
   "source": [
    "# fcgr_sequence_yeast.ravel()"
   ]
  },
  {
   "cell_type": "markdown",
   "metadata": {},
   "source": [
    "##### Put all FCGR in single dictionary with FCGR key"
   ]
  },
  {
   "cell_type": "code",
   "execution_count": 99,
   "metadata": {},
   "outputs": [],
   "source": [
    "all_species_fcgr_with_key = {\n",
    "    'key': chaos_game_kmer_array.ravel(),\n",
    "    'yeast': fcgr_sequence_yeast.ravel(),\n",
    "    'ecoli': fcgr_sequence_ecoli.ravel(),\n",
    "    'zebra fish' : fcgr_sequence_zebra_fish.ravel(),\n",
    "    'fruit fly' : fcgr_sequence_fruit_fly.ravel(),\n",
    "    'nematoda' : fcgr_sequence_Nematoda.ravel(),\n",
    "    'chimpanzee' : fcgr_sequence_chimpanzee.ravel(),\n",
    "    'gibbon': fcgr_sequence_gibbon.ravel(),\n",
    "    'gorilla' : fcgr_sequence_gorilla.ravel(),\n",
    "    'mouse': fcgr_sequence_mouse.ravel(),\n",
    "    'orangutan': fcgr_sequence_orangutan.ravel(),\n",
    "    'human' : fcgr_sequence_human.ravel()\n",
    "    \n",
    "}"
   ]
  },
  {
   "cell_type": "markdown",
   "metadata": {},
   "source": [
    "#### Convert the dictionary in the dataframe"
   ]
  },
  {
   "cell_type": "code",
   "execution_count": 100,
   "metadata": {},
   "outputs": [],
   "source": [
    "import pandas as pd\n",
    "all_species_dataframe = pd.DataFrame(all_species_fcgr_with_key)"
   ]
  },
  {
   "cell_type": "code",
   "execution_count": 101,
   "metadata": {},
   "outputs": [
    {
     "data": {
      "text/html": [
       "<div>\n",
       "<style scoped>\n",
       "    .dataframe tbody tr th:only-of-type {\n",
       "        vertical-align: middle;\n",
       "    }\n",
       "\n",
       "    .dataframe tbody tr th {\n",
       "        vertical-align: top;\n",
       "    }\n",
       "\n",
       "    .dataframe thead th {\n",
       "        text-align: right;\n",
       "    }\n",
       "</style>\n",
       "<table border=\"1\" class=\"dataframe\">\n",
       "  <thead>\n",
       "    <tr style=\"text-align: right;\">\n",
       "      <th></th>\n",
       "      <th>key</th>\n",
       "      <th>yeast</th>\n",
       "      <th>ecoli</th>\n",
       "      <th>zebra fish</th>\n",
       "      <th>fruit fly</th>\n",
       "      <th>nematoda</th>\n",
       "      <th>chimpanzee</th>\n",
       "      <th>gibbon</th>\n",
       "      <th>gorilla</th>\n",
       "      <th>mouse</th>\n",
       "      <th>orangutan</th>\n",
       "      <th>human</th>\n",
       "    </tr>\n",
       "  </thead>\n",
       "  <tbody>\n",
       "    <tr>\n",
       "      <th>0</th>\n",
       "      <td>CCCCCCCCCC</td>\n",
       "      <td>30.0</td>\n",
       "      <td>1.0</td>\n",
       "      <td>46968.0</td>\n",
       "      <td>6113.0</td>\n",
       "      <td>6471.0</td>\n",
       "      <td>39926.0</td>\n",
       "      <td>14019.0</td>\n",
       "      <td>26541.0</td>\n",
       "      <td>149463.0</td>\n",
       "      <td>23693.0</td>\n",
       "      <td>12947.0</td>\n",
       "    </tr>\n",
       "    <tr>\n",
       "      <th>1</th>\n",
       "      <td>CCCCCCCCCG</td>\n",
       "      <td>4.0</td>\n",
       "      <td>1.0</td>\n",
       "      <td>886.0</td>\n",
       "      <td>208.0</td>\n",
       "      <td>182.0</td>\n",
       "      <td>6174.0</td>\n",
       "      <td>2379.0</td>\n",
       "      <td>2386.0</td>\n",
       "      <td>12451.0</td>\n",
       "      <td>3363.0</td>\n",
       "      <td>2068.0</td>\n",
       "    </tr>\n",
       "    <tr>\n",
       "      <th>2</th>\n",
       "      <td>CCCCCCCCGC</td>\n",
       "      <td>4.0</td>\n",
       "      <td>1.0</td>\n",
       "      <td>613.0</td>\n",
       "      <td>140.0</td>\n",
       "      <td>76.0</td>\n",
       "      <td>4027.0</td>\n",
       "      <td>2514.0</td>\n",
       "      <td>2326.0</td>\n",
       "      <td>6935.0</td>\n",
       "      <td>3130.0</td>\n",
       "      <td>2060.0</td>\n",
       "    </tr>\n",
       "    <tr>\n",
       "      <th>3</th>\n",
       "      <td>CCCCCCCCGG</td>\n",
       "      <td>2.0</td>\n",
       "      <td>1.0</td>\n",
       "      <td>247.0</td>\n",
       "      <td>38.0</td>\n",
       "      <td>29.0</td>\n",
       "      <td>1216.0</td>\n",
       "      <td>989.0</td>\n",
       "      <td>514.0</td>\n",
       "      <td>1745.0</td>\n",
       "      <td>783.0</td>\n",
       "      <td>525.0</td>\n",
       "    </tr>\n",
       "    <tr>\n",
       "      <th>4</th>\n",
       "      <td>CCCCCCCGCC</td>\n",
       "      <td>2.0</td>\n",
       "      <td>2.0</td>\n",
       "      <td>677.0</td>\n",
       "      <td>163.0</td>\n",
       "      <td>35.0</td>\n",
       "      <td>7369.0</td>\n",
       "      <td>5202.0</td>\n",
       "      <td>4374.0</td>\n",
       "      <td>5985.0</td>\n",
       "      <td>5504.0</td>\n",
       "      <td>4010.0</td>\n",
       "    </tr>\n",
       "    <tr>\n",
       "      <th>...</th>\n",
       "      <td>...</td>\n",
       "      <td>...</td>\n",
       "      <td>...</td>\n",
       "      <td>...</td>\n",
       "      <td>...</td>\n",
       "      <td>...</td>\n",
       "      <td>...</td>\n",
       "      <td>...</td>\n",
       "      <td>...</td>\n",
       "      <td>...</td>\n",
       "      <td>...</td>\n",
       "      <td>...</td>\n",
       "    </tr>\n",
       "    <tr>\n",
       "      <th>1048571</th>\n",
       "      <td>TTTTTTTATT</td>\n",
       "      <td>400.0</td>\n",
       "      <td>42.0</td>\n",
       "      <td>109899.0</td>\n",
       "      <td>4798.0</td>\n",
       "      <td>4689.0</td>\n",
       "      <td>72310.0</td>\n",
       "      <td>78615.0</td>\n",
       "      <td>76787.0</td>\n",
       "      <td>56460.0</td>\n",
       "      <td>77571.0</td>\n",
       "      <td>79587.0</td>\n",
       "    </tr>\n",
       "    <tr>\n",
       "      <th>1048572</th>\n",
       "      <td>TTTTTTTTAA</td>\n",
       "      <td>240.0</td>\n",
       "      <td>6.0</td>\n",
       "      <td>121472.0</td>\n",
       "      <td>5160.0</td>\n",
       "      <td>12184.0</td>\n",
       "      <td>157472.0</td>\n",
       "      <td>146342.0</td>\n",
       "      <td>157034.0</td>\n",
       "      <td>151267.0</td>\n",
       "      <td>163064.0</td>\n",
       "      <td>164269.0</td>\n",
       "    </tr>\n",
       "    <tr>\n",
       "      <th>1048573</th>\n",
       "      <td>TTTTTTTTAT</td>\n",
       "      <td>392.0</td>\n",
       "      <td>23.0</td>\n",
       "      <td>102048.0</td>\n",
       "      <td>5885.0</td>\n",
       "      <td>3593.0</td>\n",
       "      <td>53352.0</td>\n",
       "      <td>61640.0</td>\n",
       "      <td>56644.0</td>\n",
       "      <td>50477.0</td>\n",
       "      <td>57651.0</td>\n",
       "      <td>59537.0</td>\n",
       "    </tr>\n",
       "    <tr>\n",
       "      <th>1048574</th>\n",
       "      <td>TTTTTTTTTA</td>\n",
       "      <td>510.0</td>\n",
       "      <td>3.0</td>\n",
       "      <td>185513.0</td>\n",
       "      <td>9656.0</td>\n",
       "      <td>10265.0</td>\n",
       "      <td>189095.0</td>\n",
       "      <td>189588.0</td>\n",
       "      <td>190857.0</td>\n",
       "      <td>171830.0</td>\n",
       "      <td>199129.0</td>\n",
       "      <td>201549.0</td>\n",
       "    </tr>\n",
       "    <tr>\n",
       "      <th>1048575</th>\n",
       "      <td>TTTTTTTTTT</td>\n",
       "      <td>4148.0</td>\n",
       "      <td>1.0</td>\n",
       "      <td>1027718.0</td>\n",
       "      <td>64004.0</td>\n",
       "      <td>27764.0</td>\n",
       "      <td>3057055.0</td>\n",
       "      <td>3356967.0</td>\n",
       "      <td>2936956.0</td>\n",
       "      <td>1481277.0</td>\n",
       "      <td>3056430.0</td>\n",
       "      <td>3202838.0</td>\n",
       "    </tr>\n",
       "  </tbody>\n",
       "</table>\n",
       "<p>1048576 rows × 12 columns</p>\n",
       "</div>"
      ],
      "text/plain": [
       "                key   yeast  ecoli  zebra fish  fruit fly  nematoda  \\\n",
       "0        CCCCCCCCCC    30.0    1.0     46968.0     6113.0    6471.0   \n",
       "1        CCCCCCCCCG     4.0    1.0       886.0      208.0     182.0   \n",
       "2        CCCCCCCCGC     4.0    1.0       613.0      140.0      76.0   \n",
       "3        CCCCCCCCGG     2.0    1.0       247.0       38.0      29.0   \n",
       "4        CCCCCCCGCC     2.0    2.0       677.0      163.0      35.0   \n",
       "...             ...     ...    ...         ...        ...       ...   \n",
       "1048571  TTTTTTTATT   400.0   42.0    109899.0     4798.0    4689.0   \n",
       "1048572  TTTTTTTTAA   240.0    6.0    121472.0     5160.0   12184.0   \n",
       "1048573  TTTTTTTTAT   392.0   23.0    102048.0     5885.0    3593.0   \n",
       "1048574  TTTTTTTTTA   510.0    3.0    185513.0     9656.0   10265.0   \n",
       "1048575  TTTTTTTTTT  4148.0    1.0   1027718.0    64004.0   27764.0   \n",
       "\n",
       "         chimpanzee     gibbon    gorilla      mouse  orangutan      human  \n",
       "0           39926.0    14019.0    26541.0   149463.0    23693.0    12947.0  \n",
       "1            6174.0     2379.0     2386.0    12451.0     3363.0     2068.0  \n",
       "2            4027.0     2514.0     2326.0     6935.0     3130.0     2060.0  \n",
       "3            1216.0      989.0      514.0     1745.0      783.0      525.0  \n",
       "4            7369.0     5202.0     4374.0     5985.0     5504.0     4010.0  \n",
       "...             ...        ...        ...        ...        ...        ...  \n",
       "1048571     72310.0    78615.0    76787.0    56460.0    77571.0    79587.0  \n",
       "1048572    157472.0   146342.0   157034.0   151267.0   163064.0   164269.0  \n",
       "1048573     53352.0    61640.0    56644.0    50477.0    57651.0    59537.0  \n",
       "1048574    189095.0   189588.0   190857.0   171830.0   199129.0   201549.0  \n",
       "1048575   3057055.0  3356967.0  2936956.0  1481277.0  3056430.0  3202838.0  \n",
       "\n",
       "[1048576 rows x 12 columns]"
      ]
     },
     "execution_count": 101,
     "metadata": {},
     "output_type": "execute_result"
    }
   ],
   "source": [
    "all_species_dataframe"
   ]
  },
  {
   "cell_type": "code",
   "execution_count": 86,
   "metadata": {},
   "outputs": [],
   "source": [
    "all_species_dataframe.set_index('key', inplace=True)"
   ]
  },
  {
   "cell_type": "code",
   "execution_count": 87,
   "metadata": {},
   "outputs": [
    {
     "data": {
      "text/html": [
       "<div>\n",
       "<style scoped>\n",
       "    .dataframe tbody tr th:only-of-type {\n",
       "        vertical-align: middle;\n",
       "    }\n",
       "\n",
       "    .dataframe tbody tr th {\n",
       "        vertical-align: top;\n",
       "    }\n",
       "\n",
       "    .dataframe thead th {\n",
       "        text-align: right;\n",
       "    }\n",
       "</style>\n",
       "<table border=\"1\" class=\"dataframe\">\n",
       "  <thead>\n",
       "    <tr style=\"text-align: right;\">\n",
       "      <th></th>\n",
       "      <th>yeast</th>\n",
       "      <th>ecoli</th>\n",
       "      <th>zebra fish</th>\n",
       "      <th>fruit fly</th>\n",
       "      <th>nematoda</th>\n",
       "      <th>chimpanzee</th>\n",
       "      <th>gibbon</th>\n",
       "      <th>gorilla</th>\n",
       "      <th>mouse</th>\n",
       "      <th>orangutan</th>\n",
       "      <th>human</th>\n",
       "    </tr>\n",
       "    <tr>\n",
       "      <th>key</th>\n",
       "      <th></th>\n",
       "      <th></th>\n",
       "      <th></th>\n",
       "      <th></th>\n",
       "      <th></th>\n",
       "      <th></th>\n",
       "      <th></th>\n",
       "      <th></th>\n",
       "      <th></th>\n",
       "      <th></th>\n",
       "      <th></th>\n",
       "    </tr>\n",
       "  </thead>\n",
       "  <tbody>\n",
       "    <tr>\n",
       "      <th>CCCCCCCCCC</th>\n",
       "      <td>30.0</td>\n",
       "      <td>1.0</td>\n",
       "      <td>46968.0</td>\n",
       "      <td>6113.0</td>\n",
       "      <td>6471.0</td>\n",
       "      <td>39926.0</td>\n",
       "      <td>14019.0</td>\n",
       "      <td>26541.0</td>\n",
       "      <td>149463.0</td>\n",
       "      <td>23693.0</td>\n",
       "      <td>12947.0</td>\n",
       "    </tr>\n",
       "    <tr>\n",
       "      <th>CCCCCCCCCG</th>\n",
       "      <td>4.0</td>\n",
       "      <td>1.0</td>\n",
       "      <td>886.0</td>\n",
       "      <td>208.0</td>\n",
       "      <td>182.0</td>\n",
       "      <td>6174.0</td>\n",
       "      <td>2379.0</td>\n",
       "      <td>2386.0</td>\n",
       "      <td>12451.0</td>\n",
       "      <td>3363.0</td>\n",
       "      <td>2068.0</td>\n",
       "    </tr>\n",
       "    <tr>\n",
       "      <th>CCCCCCCCGC</th>\n",
       "      <td>4.0</td>\n",
       "      <td>1.0</td>\n",
       "      <td>613.0</td>\n",
       "      <td>140.0</td>\n",
       "      <td>76.0</td>\n",
       "      <td>4027.0</td>\n",
       "      <td>2514.0</td>\n",
       "      <td>2326.0</td>\n",
       "      <td>6935.0</td>\n",
       "      <td>3130.0</td>\n",
       "      <td>2060.0</td>\n",
       "    </tr>\n",
       "    <tr>\n",
       "      <th>CCCCCCCCGG</th>\n",
       "      <td>2.0</td>\n",
       "      <td>1.0</td>\n",
       "      <td>247.0</td>\n",
       "      <td>38.0</td>\n",
       "      <td>29.0</td>\n",
       "      <td>1216.0</td>\n",
       "      <td>989.0</td>\n",
       "      <td>514.0</td>\n",
       "      <td>1745.0</td>\n",
       "      <td>783.0</td>\n",
       "      <td>525.0</td>\n",
       "    </tr>\n",
       "    <tr>\n",
       "      <th>CCCCCCCGCC</th>\n",
       "      <td>2.0</td>\n",
       "      <td>2.0</td>\n",
       "      <td>677.0</td>\n",
       "      <td>163.0</td>\n",
       "      <td>35.0</td>\n",
       "      <td>7369.0</td>\n",
       "      <td>5202.0</td>\n",
       "      <td>4374.0</td>\n",
       "      <td>5985.0</td>\n",
       "      <td>5504.0</td>\n",
       "      <td>4010.0</td>\n",
       "    </tr>\n",
       "    <tr>\n",
       "      <th>...</th>\n",
       "      <td>...</td>\n",
       "      <td>...</td>\n",
       "      <td>...</td>\n",
       "      <td>...</td>\n",
       "      <td>...</td>\n",
       "      <td>...</td>\n",
       "      <td>...</td>\n",
       "      <td>...</td>\n",
       "      <td>...</td>\n",
       "      <td>...</td>\n",
       "      <td>...</td>\n",
       "    </tr>\n",
       "    <tr>\n",
       "      <th>TTTTTTTATT</th>\n",
       "      <td>400.0</td>\n",
       "      <td>42.0</td>\n",
       "      <td>109899.0</td>\n",
       "      <td>4798.0</td>\n",
       "      <td>4689.0</td>\n",
       "      <td>72310.0</td>\n",
       "      <td>78615.0</td>\n",
       "      <td>76787.0</td>\n",
       "      <td>56460.0</td>\n",
       "      <td>77571.0</td>\n",
       "      <td>79587.0</td>\n",
       "    </tr>\n",
       "    <tr>\n",
       "      <th>TTTTTTTTAA</th>\n",
       "      <td>240.0</td>\n",
       "      <td>6.0</td>\n",
       "      <td>121472.0</td>\n",
       "      <td>5160.0</td>\n",
       "      <td>12184.0</td>\n",
       "      <td>157472.0</td>\n",
       "      <td>146342.0</td>\n",
       "      <td>157034.0</td>\n",
       "      <td>151267.0</td>\n",
       "      <td>163064.0</td>\n",
       "      <td>164269.0</td>\n",
       "    </tr>\n",
       "    <tr>\n",
       "      <th>TTTTTTTTAT</th>\n",
       "      <td>392.0</td>\n",
       "      <td>23.0</td>\n",
       "      <td>102048.0</td>\n",
       "      <td>5885.0</td>\n",
       "      <td>3593.0</td>\n",
       "      <td>53352.0</td>\n",
       "      <td>61640.0</td>\n",
       "      <td>56644.0</td>\n",
       "      <td>50477.0</td>\n",
       "      <td>57651.0</td>\n",
       "      <td>59537.0</td>\n",
       "    </tr>\n",
       "    <tr>\n",
       "      <th>TTTTTTTTTA</th>\n",
       "      <td>510.0</td>\n",
       "      <td>3.0</td>\n",
       "      <td>185513.0</td>\n",
       "      <td>9656.0</td>\n",
       "      <td>10265.0</td>\n",
       "      <td>189095.0</td>\n",
       "      <td>189588.0</td>\n",
       "      <td>190857.0</td>\n",
       "      <td>171830.0</td>\n",
       "      <td>199129.0</td>\n",
       "      <td>201549.0</td>\n",
       "    </tr>\n",
       "    <tr>\n",
       "      <th>TTTTTTTTTT</th>\n",
       "      <td>4148.0</td>\n",
       "      <td>1.0</td>\n",
       "      <td>1027718.0</td>\n",
       "      <td>64004.0</td>\n",
       "      <td>27764.0</td>\n",
       "      <td>3057055.0</td>\n",
       "      <td>3356967.0</td>\n",
       "      <td>2936956.0</td>\n",
       "      <td>1481277.0</td>\n",
       "      <td>3056430.0</td>\n",
       "      <td>3202838.0</td>\n",
       "    </tr>\n",
       "  </tbody>\n",
       "</table>\n",
       "<p>1048576 rows × 11 columns</p>\n",
       "</div>"
      ],
      "text/plain": [
       "             yeast  ecoli  zebra fish  fruit fly  nematoda  chimpanzee  \\\n",
       "key                                                                      \n",
       "CCCCCCCCCC    30.0    1.0     46968.0     6113.0    6471.0     39926.0   \n",
       "CCCCCCCCCG     4.0    1.0       886.0      208.0     182.0      6174.0   \n",
       "CCCCCCCCGC     4.0    1.0       613.0      140.0      76.0      4027.0   \n",
       "CCCCCCCCGG     2.0    1.0       247.0       38.0      29.0      1216.0   \n",
       "CCCCCCCGCC     2.0    2.0       677.0      163.0      35.0      7369.0   \n",
       "...            ...    ...         ...        ...       ...         ...   \n",
       "TTTTTTTATT   400.0   42.0    109899.0     4798.0    4689.0     72310.0   \n",
       "TTTTTTTTAA   240.0    6.0    121472.0     5160.0   12184.0    157472.0   \n",
       "TTTTTTTTAT   392.0   23.0    102048.0     5885.0    3593.0     53352.0   \n",
       "TTTTTTTTTA   510.0    3.0    185513.0     9656.0   10265.0    189095.0   \n",
       "TTTTTTTTTT  4148.0    1.0   1027718.0    64004.0   27764.0   3057055.0   \n",
       "\n",
       "               gibbon    gorilla      mouse  orangutan      human  \n",
       "key                                                                \n",
       "CCCCCCCCCC    14019.0    26541.0   149463.0    23693.0    12947.0  \n",
       "CCCCCCCCCG     2379.0     2386.0    12451.0     3363.0     2068.0  \n",
       "CCCCCCCCGC     2514.0     2326.0     6935.0     3130.0     2060.0  \n",
       "CCCCCCCCGG      989.0      514.0     1745.0      783.0      525.0  \n",
       "CCCCCCCGCC     5202.0     4374.0     5985.0     5504.0     4010.0  \n",
       "...               ...        ...        ...        ...        ...  \n",
       "TTTTTTTATT    78615.0    76787.0    56460.0    77571.0    79587.0  \n",
       "TTTTTTTTAA   146342.0   157034.0   151267.0   163064.0   164269.0  \n",
       "TTTTTTTTAT    61640.0    56644.0    50477.0    57651.0    59537.0  \n",
       "TTTTTTTTTA   189588.0   190857.0   171830.0   199129.0   201549.0  \n",
       "TTTTTTTTTT  3356967.0  2936956.0  1481277.0  3056430.0  3202838.0  \n",
       "\n",
       "[1048576 rows x 11 columns]"
      ]
     },
     "execution_count": 87,
     "metadata": {},
     "output_type": "execute_result"
    }
   ],
   "source": [
    "all_species_dataframe"
   ]
  },
  {
   "cell_type": "markdown",
   "metadata": {},
   "source": [
    "##### Normalize kmer frequency of each species and transform in -np.ln(X) scale"
   ]
  },
  {
   "cell_type": "code",
   "execution_count": 88,
   "metadata": {},
   "outputs": [],
   "source": [
    "all_species_dataframe_species_wise_normalized = all_species_dataframe.copy()\n",
    "\n",
    "for i in all_species_dataframe_species_wise_normalized.columns.tolist():\n",
    "    all_species_dataframe_species_wise_normalized[i] = -np.log(all_species_dataframe_species_wise_normalized[i]/all_species_dataframe_species_wise_normalized[i].sum())\n",
    "    # print(a[i].sum())"
   ]
  },
  {
   "cell_type": "code",
   "execution_count": 89,
   "metadata": {},
   "outputs": [
    {
     "data": {
      "text/html": [
       "<div>\n",
       "<style scoped>\n",
       "    .dataframe tbody tr th:only-of-type {\n",
       "        vertical-align: middle;\n",
       "    }\n",
       "\n",
       "    .dataframe tbody tr th {\n",
       "        vertical-align: top;\n",
       "    }\n",
       "\n",
       "    .dataframe thead th {\n",
       "        text-align: right;\n",
       "    }\n",
       "</style>\n",
       "<table border=\"1\" class=\"dataframe\">\n",
       "  <thead>\n",
       "    <tr style=\"text-align: right;\">\n",
       "      <th></th>\n",
       "      <th>yeast</th>\n",
       "      <th>ecoli</th>\n",
       "      <th>zebra fish</th>\n",
       "      <th>fruit fly</th>\n",
       "      <th>nematoda</th>\n",
       "      <th>chimpanzee</th>\n",
       "      <th>gibbon</th>\n",
       "      <th>gorilla</th>\n",
       "      <th>mouse</th>\n",
       "      <th>orangutan</th>\n",
       "      <th>human</th>\n",
       "    </tr>\n",
       "    <tr>\n",
       "      <th>key</th>\n",
       "      <th></th>\n",
       "      <th></th>\n",
       "      <th></th>\n",
       "      <th></th>\n",
       "      <th></th>\n",
       "      <th></th>\n",
       "      <th></th>\n",
       "      <th></th>\n",
       "      <th></th>\n",
       "      <th></th>\n",
       "      <th></th>\n",
       "    </tr>\n",
       "  </thead>\n",
       "  <tbody>\n",
       "    <tr>\n",
       "      <th>CCCCCCCCCC</th>\n",
       "      <td>12.995617</td>\n",
       "      <td>15.619458</td>\n",
       "      <td>10.482191</td>\n",
       "      <td>10.064520</td>\n",
       "      <td>9.658856</td>\n",
       "      <td>11.298866</td>\n",
       "      <td>12.333226</td>\n",
       "      <td>11.816743</td>\n",
       "      <td>9.785159</td>\n",
       "      <td>11.827727</td>\n",
       "      <td>12.398190</td>\n",
       "    </tr>\n",
       "    <tr>\n",
       "      <th>CCCCCCCCCG</th>\n",
       "      <td>15.010520</td>\n",
       "      <td>15.619458</td>\n",
       "      <td>14.452695</td>\n",
       "      <td>13.445154</td>\n",
       "      <td>13.229935</td>\n",
       "      <td>13.165547</td>\n",
       "      <td>14.106960</td>\n",
       "      <td>14.225815</td>\n",
       "      <td>12.270407</td>\n",
       "      <td>13.780073</td>\n",
       "      <td>14.232472</td>\n",
       "    </tr>\n",
       "    <tr>\n",
       "      <th>CCCCCCCCGC</th>\n",
       "      <td>15.010520</td>\n",
       "      <td>15.619458</td>\n",
       "      <td>14.821047</td>\n",
       "      <td>13.841050</td>\n",
       "      <td>14.103209</td>\n",
       "      <td>13.592872</td>\n",
       "      <td>14.051765</td>\n",
       "      <td>14.251283</td>\n",
       "      <td>12.855627</td>\n",
       "      <td>13.851873</td>\n",
       "      <td>14.236348</td>\n",
       "    </tr>\n",
       "    <tr>\n",
       "      <th>CCCCCCCCGG</th>\n",
       "      <td>15.703667</td>\n",
       "      <td>15.619458</td>\n",
       "      <td>15.730024</td>\n",
       "      <td>15.145106</td>\n",
       "      <td>15.066646</td>\n",
       "      <td>14.790327</td>\n",
       "      <td>14.984701</td>\n",
       "      <td>15.760966</td>\n",
       "      <td>14.235453</td>\n",
       "      <td>15.237529</td>\n",
       "      <td>15.603411</td>\n",
       "    </tr>\n",
       "    <tr>\n",
       "      <th>CCCCCCCGCC</th>\n",
       "      <td>15.703667</td>\n",
       "      <td>14.926310</td>\n",
       "      <td>14.721741</td>\n",
       "      <td>13.688942</td>\n",
       "      <td>14.878594</td>\n",
       "      <td>12.988612</td>\n",
       "      <td>13.324597</td>\n",
       "      <td>13.619756</td>\n",
       "      <td>13.002951</td>\n",
       "      <td>13.287431</td>\n",
       "      <td>13.570263</td>\n",
       "    </tr>\n",
       "    <tr>\n",
       "      <th>...</th>\n",
       "      <td>...</td>\n",
       "      <td>...</td>\n",
       "      <td>...</td>\n",
       "      <td>...</td>\n",
       "      <td>...</td>\n",
       "      <td>...</td>\n",
       "      <td>...</td>\n",
       "      <td>...</td>\n",
       "      <td>...</td>\n",
       "      <td>...</td>\n",
       "      <td>...</td>\n",
       "    </tr>\n",
       "    <tr>\n",
       "      <th>TTTTTTTATT</th>\n",
       "      <td>10.405350</td>\n",
       "      <td>11.881788</td>\n",
       "      <td>9.632095</td>\n",
       "      <td>10.306738</td>\n",
       "      <td>9.980967</td>\n",
       "      <td>10.704932</td>\n",
       "      <td>10.609077</td>\n",
       "      <td>10.754398</td>\n",
       "      <td>10.758675</td>\n",
       "      <td>10.641713</td>\n",
       "      <td>10.582203</td>\n",
       "    </tr>\n",
       "    <tr>\n",
       "      <th>TTTTTTTTAA</th>\n",
       "      <td>10.916175</td>\n",
       "      <td>13.827698</td>\n",
       "      <td>9.531973</td>\n",
       "      <td>10.234001</td>\n",
       "      <td>9.026063</td>\n",
       "      <td>9.926646</td>\n",
       "      <td>9.987694</td>\n",
       "      <td>10.038971</td>\n",
       "      <td>9.773161</td>\n",
       "      <td>9.898763</td>\n",
       "      <td>9.857549</td>\n",
       "    </tr>\n",
       "    <tr>\n",
       "      <th>TTTTTTTTAT</th>\n",
       "      <td>10.425552</td>\n",
       "      <td>12.483963</td>\n",
       "      <td>9.706214</td>\n",
       "      <td>10.102531</td>\n",
       "      <td>10.247199</td>\n",
       "      <td>11.008983</td>\n",
       "      <td>10.852329</td>\n",
       "      <td>11.058647</td>\n",
       "      <td>10.870690</td>\n",
       "      <td>10.938499</td>\n",
       "      <td>10.872456</td>\n",
       "    </tr>\n",
       "    <tr>\n",
       "      <th>TTTTTTTTTA</th>\n",
       "      <td>10.162403</td>\n",
       "      <td>14.520845</td>\n",
       "      <td>9.108532</td>\n",
       "      <td>9.607358</td>\n",
       "      <td>9.197447</td>\n",
       "      <td>9.743645</td>\n",
       "      <td>9.728787</td>\n",
       "      <td>9.843909</td>\n",
       "      <td>9.645702</td>\n",
       "      <td>9.698953</td>\n",
       "      <td>9.653022</td>\n",
       "    </tr>\n",
       "    <tr>\n",
       "      <th>TTTTTTTTTT</th>\n",
       "      <td>8.066433</td>\n",
       "      <td>15.619458</td>\n",
       "      <td>7.396561</td>\n",
       "      <td>7.715992</td>\n",
       "      <td>8.202447</td>\n",
       "      <td>6.960687</td>\n",
       "      <td>6.854847</td>\n",
       "      <td>7.110305</td>\n",
       "      <td>7.491548</td>\n",
       "      <td>6.967903</td>\n",
       "      <td>6.887261</td>\n",
       "    </tr>\n",
       "  </tbody>\n",
       "</table>\n",
       "<p>1048576 rows × 11 columns</p>\n",
       "</div>"
      ],
      "text/plain": [
       "                yeast      ecoli  zebra fish  fruit fly   nematoda  \\\n",
       "key                                                                  \n",
       "CCCCCCCCCC  12.995617  15.619458   10.482191  10.064520   9.658856   \n",
       "CCCCCCCCCG  15.010520  15.619458   14.452695  13.445154  13.229935   \n",
       "CCCCCCCCGC  15.010520  15.619458   14.821047  13.841050  14.103209   \n",
       "CCCCCCCCGG  15.703667  15.619458   15.730024  15.145106  15.066646   \n",
       "CCCCCCCGCC  15.703667  14.926310   14.721741  13.688942  14.878594   \n",
       "...               ...        ...         ...        ...        ...   \n",
       "TTTTTTTATT  10.405350  11.881788    9.632095  10.306738   9.980967   \n",
       "TTTTTTTTAA  10.916175  13.827698    9.531973  10.234001   9.026063   \n",
       "TTTTTTTTAT  10.425552  12.483963    9.706214  10.102531  10.247199   \n",
       "TTTTTTTTTA  10.162403  14.520845    9.108532   9.607358   9.197447   \n",
       "TTTTTTTTTT   8.066433  15.619458    7.396561   7.715992   8.202447   \n",
       "\n",
       "            chimpanzee     gibbon    gorilla      mouse  orangutan      human  \n",
       "key                                                                            \n",
       "CCCCCCCCCC   11.298866  12.333226  11.816743   9.785159  11.827727  12.398190  \n",
       "CCCCCCCCCG   13.165547  14.106960  14.225815  12.270407  13.780073  14.232472  \n",
       "CCCCCCCCGC   13.592872  14.051765  14.251283  12.855627  13.851873  14.236348  \n",
       "CCCCCCCCGG   14.790327  14.984701  15.760966  14.235453  15.237529  15.603411  \n",
       "CCCCCCCGCC   12.988612  13.324597  13.619756  13.002951  13.287431  13.570263  \n",
       "...                ...        ...        ...        ...        ...        ...  \n",
       "TTTTTTTATT   10.704932  10.609077  10.754398  10.758675  10.641713  10.582203  \n",
       "TTTTTTTTAA    9.926646   9.987694  10.038971   9.773161   9.898763   9.857549  \n",
       "TTTTTTTTAT   11.008983  10.852329  11.058647  10.870690  10.938499  10.872456  \n",
       "TTTTTTTTTA    9.743645   9.728787   9.843909   9.645702   9.698953   9.653022  \n",
       "TTTTTTTTTT    6.960687   6.854847   7.110305   7.491548   6.967903   6.887261  \n",
       "\n",
       "[1048576 rows x 11 columns]"
      ]
     },
     "execution_count": 89,
     "metadata": {},
     "output_type": "execute_result"
    }
   ],
   "source": [
    "all_species_dataframe_species_wise_normalized"
   ]
  },
  {
   "cell_type": "markdown",
   "metadata": {},
   "source": [
    "##### Truncate all number into the 4 digit after decimel"
   ]
  },
  {
   "cell_type": "code",
   "execution_count": 93,
   "metadata": {},
   "outputs": [
    {
     "data": {
      "text/html": [
       "<div>\n",
       "<style scoped>\n",
       "    .dataframe tbody tr th:only-of-type {\n",
       "        vertical-align: middle;\n",
       "    }\n",
       "\n",
       "    .dataframe tbody tr th {\n",
       "        vertical-align: top;\n",
       "    }\n",
       "\n",
       "    .dataframe thead th {\n",
       "        text-align: right;\n",
       "    }\n",
       "</style>\n",
       "<table border=\"1\" class=\"dataframe\">\n",
       "  <thead>\n",
       "    <tr style=\"text-align: right;\">\n",
       "      <th></th>\n",
       "      <th>yeast</th>\n",
       "      <th>ecoli</th>\n",
       "      <th>zebra fish</th>\n",
       "      <th>fruit fly</th>\n",
       "      <th>nematoda</th>\n",
       "      <th>chimpanzee</th>\n",
       "      <th>gibbon</th>\n",
       "      <th>gorilla</th>\n",
       "      <th>mouse</th>\n",
       "      <th>orangutan</th>\n",
       "      <th>human</th>\n",
       "    </tr>\n",
       "    <tr>\n",
       "      <th>key</th>\n",
       "      <th></th>\n",
       "      <th></th>\n",
       "      <th></th>\n",
       "      <th></th>\n",
       "      <th></th>\n",
       "      <th></th>\n",
       "      <th></th>\n",
       "      <th></th>\n",
       "      <th></th>\n",
       "      <th></th>\n",
       "      <th></th>\n",
       "    </tr>\n",
       "  </thead>\n",
       "  <tbody>\n",
       "    <tr>\n",
       "      <th>CCCCCCCCCC</th>\n",
       "      <td>12.9956</td>\n",
       "      <td>15.6195</td>\n",
       "      <td>10.4822</td>\n",
       "      <td>10.0645</td>\n",
       "      <td>9.6589</td>\n",
       "      <td>11.2989</td>\n",
       "      <td>12.3332</td>\n",
       "      <td>11.8167</td>\n",
       "      <td>9.7852</td>\n",
       "      <td>11.8277</td>\n",
       "      <td>12.3982</td>\n",
       "    </tr>\n",
       "    <tr>\n",
       "      <th>CCCCCCCCCG</th>\n",
       "      <td>15.0105</td>\n",
       "      <td>15.6195</td>\n",
       "      <td>14.4527</td>\n",
       "      <td>13.4452</td>\n",
       "      <td>13.2299</td>\n",
       "      <td>13.1655</td>\n",
       "      <td>14.1070</td>\n",
       "      <td>14.2258</td>\n",
       "      <td>12.2704</td>\n",
       "      <td>13.7801</td>\n",
       "      <td>14.2325</td>\n",
       "    </tr>\n",
       "    <tr>\n",
       "      <th>CCCCCCCCGC</th>\n",
       "      <td>15.0105</td>\n",
       "      <td>15.6195</td>\n",
       "      <td>14.8210</td>\n",
       "      <td>13.8411</td>\n",
       "      <td>14.1032</td>\n",
       "      <td>13.5929</td>\n",
       "      <td>14.0518</td>\n",
       "      <td>14.2513</td>\n",
       "      <td>12.8556</td>\n",
       "      <td>13.8519</td>\n",
       "      <td>14.2363</td>\n",
       "    </tr>\n",
       "    <tr>\n",
       "      <th>CCCCCCCCGG</th>\n",
       "      <td>15.7037</td>\n",
       "      <td>15.6195</td>\n",
       "      <td>15.7300</td>\n",
       "      <td>15.1451</td>\n",
       "      <td>15.0666</td>\n",
       "      <td>14.7903</td>\n",
       "      <td>14.9847</td>\n",
       "      <td>15.7610</td>\n",
       "      <td>14.2355</td>\n",
       "      <td>15.2375</td>\n",
       "      <td>15.6034</td>\n",
       "    </tr>\n",
       "    <tr>\n",
       "      <th>CCCCCCCGCC</th>\n",
       "      <td>15.7037</td>\n",
       "      <td>14.9263</td>\n",
       "      <td>14.7217</td>\n",
       "      <td>13.6889</td>\n",
       "      <td>14.8786</td>\n",
       "      <td>12.9886</td>\n",
       "      <td>13.3246</td>\n",
       "      <td>13.6198</td>\n",
       "      <td>13.0030</td>\n",
       "      <td>13.2874</td>\n",
       "      <td>13.5703</td>\n",
       "    </tr>\n",
       "    <tr>\n",
       "      <th>...</th>\n",
       "      <td>...</td>\n",
       "      <td>...</td>\n",
       "      <td>...</td>\n",
       "      <td>...</td>\n",
       "      <td>...</td>\n",
       "      <td>...</td>\n",
       "      <td>...</td>\n",
       "      <td>...</td>\n",
       "      <td>...</td>\n",
       "      <td>...</td>\n",
       "      <td>...</td>\n",
       "    </tr>\n",
       "    <tr>\n",
       "      <th>TTTTTTTATT</th>\n",
       "      <td>10.4053</td>\n",
       "      <td>11.8818</td>\n",
       "      <td>9.6321</td>\n",
       "      <td>10.3067</td>\n",
       "      <td>9.9810</td>\n",
       "      <td>10.7049</td>\n",
       "      <td>10.6091</td>\n",
       "      <td>10.7544</td>\n",
       "      <td>10.7587</td>\n",
       "      <td>10.6417</td>\n",
       "      <td>10.5822</td>\n",
       "    </tr>\n",
       "    <tr>\n",
       "      <th>TTTTTTTTAA</th>\n",
       "      <td>10.9162</td>\n",
       "      <td>13.8277</td>\n",
       "      <td>9.5320</td>\n",
       "      <td>10.2340</td>\n",
       "      <td>9.0261</td>\n",
       "      <td>9.9266</td>\n",
       "      <td>9.9877</td>\n",
       "      <td>10.0390</td>\n",
       "      <td>9.7732</td>\n",
       "      <td>9.8988</td>\n",
       "      <td>9.8575</td>\n",
       "    </tr>\n",
       "    <tr>\n",
       "      <th>TTTTTTTTAT</th>\n",
       "      <td>10.4256</td>\n",
       "      <td>12.4840</td>\n",
       "      <td>9.7062</td>\n",
       "      <td>10.1025</td>\n",
       "      <td>10.2472</td>\n",
       "      <td>11.0090</td>\n",
       "      <td>10.8523</td>\n",
       "      <td>11.0586</td>\n",
       "      <td>10.8707</td>\n",
       "      <td>10.9385</td>\n",
       "      <td>10.8725</td>\n",
       "    </tr>\n",
       "    <tr>\n",
       "      <th>TTTTTTTTTA</th>\n",
       "      <td>10.1624</td>\n",
       "      <td>14.5208</td>\n",
       "      <td>9.1085</td>\n",
       "      <td>9.6074</td>\n",
       "      <td>9.1974</td>\n",
       "      <td>9.7436</td>\n",
       "      <td>9.7288</td>\n",
       "      <td>9.8439</td>\n",
       "      <td>9.6457</td>\n",
       "      <td>9.6990</td>\n",
       "      <td>9.6530</td>\n",
       "    </tr>\n",
       "    <tr>\n",
       "      <th>TTTTTTTTTT</th>\n",
       "      <td>8.0664</td>\n",
       "      <td>15.6195</td>\n",
       "      <td>7.3966</td>\n",
       "      <td>7.7160</td>\n",
       "      <td>8.2024</td>\n",
       "      <td>6.9607</td>\n",
       "      <td>6.8548</td>\n",
       "      <td>7.1103</td>\n",
       "      <td>7.4915</td>\n",
       "      <td>6.9679</td>\n",
       "      <td>6.8873</td>\n",
       "    </tr>\n",
       "  </tbody>\n",
       "</table>\n",
       "<p>1048576 rows × 11 columns</p>\n",
       "</div>"
      ],
      "text/plain": [
       "              yeast    ecoli  zebra fish  fruit fly  nematoda  chimpanzee  \\\n",
       "key                                                                         \n",
       "CCCCCCCCCC  12.9956  15.6195     10.4822    10.0645    9.6589     11.2989   \n",
       "CCCCCCCCCG  15.0105  15.6195     14.4527    13.4452   13.2299     13.1655   \n",
       "CCCCCCCCGC  15.0105  15.6195     14.8210    13.8411   14.1032     13.5929   \n",
       "CCCCCCCCGG  15.7037  15.6195     15.7300    15.1451   15.0666     14.7903   \n",
       "CCCCCCCGCC  15.7037  14.9263     14.7217    13.6889   14.8786     12.9886   \n",
       "...             ...      ...         ...        ...       ...         ...   \n",
       "TTTTTTTATT  10.4053  11.8818      9.6321    10.3067    9.9810     10.7049   \n",
       "TTTTTTTTAA  10.9162  13.8277      9.5320    10.2340    9.0261      9.9266   \n",
       "TTTTTTTTAT  10.4256  12.4840      9.7062    10.1025   10.2472     11.0090   \n",
       "TTTTTTTTTA  10.1624  14.5208      9.1085     9.6074    9.1974      9.7436   \n",
       "TTTTTTTTTT   8.0664  15.6195      7.3966     7.7160    8.2024      6.9607   \n",
       "\n",
       "             gibbon  gorilla    mouse  orangutan    human  \n",
       "key                                                        \n",
       "CCCCCCCCCC  12.3332  11.8167   9.7852    11.8277  12.3982  \n",
       "CCCCCCCCCG  14.1070  14.2258  12.2704    13.7801  14.2325  \n",
       "CCCCCCCCGC  14.0518  14.2513  12.8556    13.8519  14.2363  \n",
       "CCCCCCCCGG  14.9847  15.7610  14.2355    15.2375  15.6034  \n",
       "CCCCCCCGCC  13.3246  13.6198  13.0030    13.2874  13.5703  \n",
       "...             ...      ...      ...        ...      ...  \n",
       "TTTTTTTATT  10.6091  10.7544  10.7587    10.6417  10.5822  \n",
       "TTTTTTTTAA   9.9877  10.0390   9.7732     9.8988   9.8575  \n",
       "TTTTTTTTAT  10.8523  11.0586  10.8707    10.9385  10.8725  \n",
       "TTTTTTTTTA   9.7288   9.8439   9.6457     9.6990   9.6530  \n",
       "TTTTTTTTTT   6.8548   7.1103   7.4915     6.9679   6.8873  \n",
       "\n",
       "[1048576 rows x 11 columns]"
      ]
     },
     "execution_count": 93,
     "metadata": {},
     "output_type": "execute_result"
    }
   ],
   "source": [
    "all_species_dataframe_species_wise_normalized = all_species_dataframe_species_wise_normalized.round(4)\n",
    "all_species_dataframe_species_wise_normalized"
   ]
  },
  {
   "cell_type": "code",
   "execution_count": 95,
   "metadata": {},
   "outputs": [],
   "source": [
    "# all_species_dataframe_species_wise_normalized.to_csv(\"all speceies FCGR in -log(x) scale truncated to four decimel.txt\", index=False)"
   ]
  },
  {
   "cell_type": "code",
   "execution_count": null,
   "metadata": {},
   "outputs": [],
   "source": [
    "# pickle.dump(all_species_dataframe_species_wise_normalized, open('all_speceies_fcgr_dataframe.pickle', 'wb'))"
   ]
  },
  {
   "cell_type": "code",
   "execution_count": 102,
   "metadata": {},
   "outputs": [],
   "source": [
    "# import pickle\n",
    "# pickle.dump(all_species_dataframe, open('all_species_fcgr_dataframe.pickle', 'wb'))"
   ]
  },
  {
   "cell_type": "code",
   "execution_count": null,
   "metadata": {},
   "outputs": [],
   "source": [
    "# import pickle\n",
    "# pickle.dump(all_speceies_fcgr_with_key, open('all species fcgr including human.pickle', 'wb'))"
   ]
  },
  {
   "cell_type": "code",
   "execution_count": null,
   "metadata": {},
   "outputs": [],
   "source": [
    "# all_speceies_fcgr"
   ]
  },
  {
   "cell_type": "code",
   "execution_count": null,
   "metadata": {},
   "outputs": [],
   "source": []
  }
 ],
 "metadata": {
  "kernelspec": {
   "display_name": "Python 3 (ipykernel)",
   "language": "python",
   "name": "python3"
  },
  "language_info": {
   "codemirror_mode": {
    "name": "ipython",
    "version": 3
   },
   "file_extension": ".py",
   "mimetype": "text/x-python",
   "name": "python",
   "nbconvert_exporter": "python",
   "pygments_lexer": "ipython3",
   "version": "3.10.11"
  }
 },
 "nbformat": 4,
 "nbformat_minor": 2
}
